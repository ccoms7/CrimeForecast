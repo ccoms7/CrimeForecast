$ jupyter nbconvert --to html Carolina_Santos_Capstone.ipynb
{
 "cells": [
  {
   "cell_type": "markdown",
   "metadata": {},
   "source": [
    "<div style=\"float:right\",size=\"5\"><b>Carolina Santos | Data Science Candidate | 2020<b><div>"
   ]
  },
  {
   "cell_type": "markdown",
   "metadata": {},
   "source": [
    "<font size=\"6\"> __Forecasting Vancouver Crime:__<font>"
   ]
  },
  {
   "cell_type": "markdown",
   "metadata": {},
   "source": [
    "# Introduction"
   ]
  },
  {
   "cell_type": "markdown",
   "metadata": {},
   "source": [
    "The City of Vancouver (Canada) has 675,218 people (2017) and the Greater Vancouver Area is the third-largest metropolitan area in Canada and is one of the Top 10 worldwide cities for quality of life. I will explore if it's possible to ___accurately predict the number of daily crimes in the city of Vancouver___ by using the Python package called [__Prophet__] (https://facebook.github.io/prophet/), developed by Facebook in 2017 by the Core Data Science team."
   ]
  },
  {
   "cell_type": "markdown",
   "metadata": {},
   "source": [
    "## Data Source and Attributes"
   ]
  },
  {
   "cell_type": "markdown",
   "metadata": {},
   "source": [
    "### Vancouver Police Department (VPD) [Geodash Open Data](https://geodash.vpd.ca/opendata/)"
   ]
  },
  {
   "cell_type": "markdown",
   "metadata": {},
   "source": [
    "   * __Attributes Description__: \n",
    "        * __Description__: GeoDASH stands for Geographic Data Analysis and Statistics Hub. It is a crime mapping tool used by Vancouver Police Department (VPD) to inform residents on the crime activities happening in Vancouver. This data set carries the crimes that occurred in the city and is based upon information contained in the VPD Records Management System. The crime classification and file status may change at any time based on the dynamic nature of police investigations. The VPD has protected the privacy of all parties involved in the incidents reported. No personal or identifying information has been provided in the data. Locations for reported incidents involving Offences Against a Person have been deliberately randomized to several blocks and offset to an intersection. No time or street location name will be provided for these offences. For property related offences, the VPD has provided the location to the hundred block of these incidents within the general area of the block. All data must be considered offset and users should not interpret any locations as related to a specific person or specific property. \n",
    "\n",
    "        * __Type__:\n",
    "            - __Break and Enter Commercial__: (Commercial Break and Enter) Breaking and entering into a commercial property with intent to commit an offence\n",
    "            - __Break and Enter Residential/Other__: (Residential Break and Enter) Breaking and entering into a dwelling/house/apartment/garage with intent to commit an offence \n",
    "            - __Vehicle Collision or Pedestrian Struck (with Fatality)__: Includes primarily pedestrian or cyclist struck and killed by a vehicle. It also includes vehicle to vehicle fatal accidents, however these incidents are fewer in number when compared to the overall data set. Note: There is no neighbourhood information. \n",
    "            - __Vehicle Collision or Pedestrian Struck (with Injury)__: Includes all categories of vehicle involved accidents with injuries. This includes pedestrian and cyclist involved incidents with injuries. Note: There is no neighbourhood information\n",
    "            - __Homicide__: A person, directly or indirectly, by any means, causes the death of another person.\n",
    "            - Mischief: A person commits mischief that willfully causes malicious destruction, damage, or defacement of property. This also includes any public mischief towards another person.\n",
    "            - __Mischief__: A person commits mischief that willfully causes malicious destruction, damage, or defacement of property. \n",
    "\n",
    "            - __Offence Against a Person__: An attack on a person causing harm that may include usage of a weapon.\n",
    "            - __Other Theft__: Theft of property that includes personal items (purse, wallet, cellphone, laptop, etc.), bicycle, etc.\n",
    "            - __Theft from Vehicle__: Theft of property from a vehicle\n",
    "            - __Theft of Vehicle__: Theft of a vehicle, motorcycle, or any motor vehicle \n",
    "            - __Theft of Bicycle__: Theft of a bicycle. Note: There is no neighbourhood information\n",
    "        * __YEAR__: A four-digit field that indicates the year when the reported crime activity occurred\n",
    "        * __MONTH__: A numeric field that indicates the month when the reported crime activity occurred\n",
    "        * __DAY__: A two-digit field that indicates the day of the month when the reported crime activity occurred\n",
    "        * __HOUR__: A two-digit field that indicates the hour time (in 24 hours format) when the reported crime activity occurred Note: This information is based on the findings of the police investigation. No time information will be provided for Offences Against a Person crime type \n",
    "        * __MINUTE__: A two-digit field that indicates the minute when the reported crime activity occurred Note: This information is based on the findings of the police investigation. No time information will be provided for Offences Against a Person crime type\n",
    "        * __HUNDRED_BLOCK__: Generalized location of the report crime activity\n",
    "        * __NEIGHBOURHOOD__: The Vancouver Police Department uses the _Statistics Canada_ definition of neighbourhoods within municipalities. Neighbourhoods within the City of Vancouver are based on the census tract (CT) concept within census metropolitan area (CMA).\n",
    "        * __X__: Coordinate values are projected in UTM Zone 10. All data must be considered offset and users should not interpret any locations as related to a specific person or specific property.\n",
    "        * __Y__: Coordinate values are projected in UTM Zone 10. All data must be considered offset and users should not interpret any locations as related to a specific person or specific property.\n",
    "        \n",
    "        "
   ]
  },
  {
   "cell_type": "markdown",
   "metadata": {},
   "source": [
    "### Local Boundary Data (WGS84 EPSG:4326): [Open Data Portal](https://opendata.vancouver.ca/explore/dataset/local-area-boundary/information/)"
   ]
  },
  {
   "cell_type": "markdown",
   "metadata": {},
   "source": [
    "* __Attributes Description__: \n",
    "     * __Description__: This data set contains the boundaries for the City's 22 local areas (also known as local planning areas). Local area boundaries generally follow street centrelines in a GeoJSON format.GeoJSON is a geospatial data interchange format based on JavaScript Object Notation (JSON). GeoJSON uses a geographic coordinate reference system, World Geodetic System 1984, and units of decimal degrees (IETF).\n",
    "    * __Attributes Description__:\n",
    "        * __Type__:\n",
    "            - __MAPID__: Label that identifies the neighbourhood (i.e. AR = Arbutus-Ridge).\n",
    "            - __Name__: Full name of the neighbourhood.\n",
    "            - __Geom__: Spatial representation of Local Area, representing points, curves, and surfaces in coordinate space.\n",
    "            - __geo_point_2d__: For type \"Point\", the \"coordinates\" member is a single position."
   ]
  },
  {
   "cell_type": "markdown",
   "metadata": {},
   "source": [
    "## Exploratory Data Analysis (EDA)"
   ]
  },
  {
   "cell_type": "markdown",
   "metadata": {},
   "source": [
    "Prophet and Geopandas need to be first installed to the Conda environment so they can run on the notebook:\n",
    "* `conda install geopandas` - open source project to make working with geospatial data in python easier.\n",
    "* `pip install fbprophet` - open source library for univariate time series forecasting developed by Facebook."
   ]
  },
  {
   "cell_type": "code",
   "execution_count": 35,
   "metadata": {
    "ExecuteTime": {
     "end_time": "2020-11-01T04:47:10.689003Z",
     "start_time": "2020-11-01T04:47:10.683000Z"
    }
   },
   "outputs": [],
   "source": [
    "# importing the libraries to be used on the analysis\n",
    "\n",
    "# data manipulation\n",
    "import numpy as np\n",
    "import pandas as pd\n",
    "import datetime as dt\n",
    "\n",
    "# plotting\n",
    "import matplotlib\n",
    "from matplotlib.dates import DateFormatter\n",
    "import matplotlib.dates as mdates\n",
    "import matplotlib.pyplot as plt\n",
    "import seaborn as sns\n",
    "\n",
    "# geographic\n",
    "import geopandas as gpd\n",
    "\n",
    "# forecasting\n",
    "from fbprophet import Prophet\n",
    "from fbprophet.diagnostics import cross_validation\n",
    "from fbprophet.plot import plot_cross_validation_metric\n",
    "from fbprophet.diagnostics import performance_metrics\n",
    "from fbprophet.plot import add_changepoints_to_plot\n",
    "from fbprophet.plot import plot_forecast_component\n",
    "import holidays"
   ]
  },
  {
   "cell_type": "markdown",
   "metadata": {},
   "source": [
    "### Overview"
   ]
  },
  {
   "cell_type": "markdown",
   "metadata": {},
   "source": [
    "#### Choosing the Data to be analyzed"
   ]
  },
  {
   "cell_type": "markdown",
   "metadata": {},
   "source": [
    "We have two options of data for analysis:\n",
    "\n",
    "* __Dynamic:__ Importing data straight from the VPD website, updated every Sunday."
   ]
  },
  {
   "cell_type": "code",
   "execution_count": 36,
   "metadata": {
    "ExecuteTime": {
     "end_time": "2020-11-01T04:47:10.709998Z",
     "start_time": "2020-11-01T04:47:10.696016Z"
    }
   },
   "outputs": [],
   "source": [
    "# importing the updated file directly from the VPD \n",
    "#df = pd.read_csv(\"http://geodash.vpd.ca/opendata/crimedata_download/crimedata_csv_all_years.csv\")      "
   ]
  },
  {
   "cell_type": "markdown",
   "metadata": {},
   "source": [
    "* __Static__: Using data from 2020-10-16 csv file."
   ]
  },
  {
   "cell_type": "code",
   "execution_count": 37,
   "metadata": {
    "ExecuteTime": {
     "end_time": "2020-11-01T04:47:11.771545Z",
     "start_time": "2020-11-01T04:47:10.713006Z"
    }
   },
   "outputs": [],
   "source": [
    "df = pd.read_csv(\"Data/crimedata_csv_all_years.csv\")"
   ]
  },
  {
   "cell_type": "markdown",
   "metadata": {},
   "source": [
    "#### Verifying the Dataframe Structure"
   ]
  },
  {
   "cell_type": "markdown",
   "metadata": {},
   "source": [
    "The file has the following structure (first 5 rows):"
   ]
  },
  {
   "cell_type": "code",
   "execution_count": 38,
   "metadata": {
    "ExecuteTime": {
     "end_time": "2020-11-01T04:47:11.799518Z",
     "start_time": "2020-11-01T04:47:11.777519Z"
    }
   },
   "outputs": [
    {
     "data": {
      "text/html": [
       "<div>\n",
       "<style scoped>\n",
       "    .dataframe tbody tr th:only-of-type {\n",
       "        vertical-align: middle;\n",
       "    }\n",
       "\n",
       "    .dataframe tbody tr th {\n",
       "        vertical-align: top;\n",
       "    }\n",
       "\n",
       "    .dataframe thead th {\n",
       "        text-align: right;\n",
       "    }\n",
       "</style>\n",
       "<table border=\"1\" class=\"dataframe\">\n",
       "  <thead>\n",
       "    <tr style=\"text-align: right;\">\n",
       "      <th></th>\n",
       "      <th>TYPE</th>\n",
       "      <th>YEAR</th>\n",
       "      <th>MONTH</th>\n",
       "      <th>DAY</th>\n",
       "      <th>HOUR</th>\n",
       "      <th>MINUTE</th>\n",
       "      <th>HUNDRED_BLOCK</th>\n",
       "      <th>NEIGHBOURHOOD</th>\n",
       "      <th>X</th>\n",
       "      <th>Y</th>\n",
       "    </tr>\n",
       "  </thead>\n",
       "  <tbody>\n",
       "    <tr>\n",
       "      <th>0</th>\n",
       "      <td>Break and Enter Commercial</td>\n",
       "      <td>2012</td>\n",
       "      <td>12</td>\n",
       "      <td>14</td>\n",
       "      <td>8</td>\n",
       "      <td>52</td>\n",
       "      <td>NaN</td>\n",
       "      <td>Oakridge</td>\n",
       "      <td>491285.0000</td>\n",
       "      <td>5453433.000</td>\n",
       "    </tr>\n",
       "    <tr>\n",
       "      <th>1</th>\n",
       "      <td>Break and Enter Commercial</td>\n",
       "      <td>2019</td>\n",
       "      <td>3</td>\n",
       "      <td>7</td>\n",
       "      <td>2</td>\n",
       "      <td>6</td>\n",
       "      <td>10XX SITKA SQ</td>\n",
       "      <td>Fairview</td>\n",
       "      <td>490612.9648</td>\n",
       "      <td>5457109.822</td>\n",
       "    </tr>\n",
       "    <tr>\n",
       "      <th>2</th>\n",
       "      <td>Break and Enter Commercial</td>\n",
       "      <td>2019</td>\n",
       "      <td>8</td>\n",
       "      <td>27</td>\n",
       "      <td>4</td>\n",
       "      <td>12</td>\n",
       "      <td>10XX ALBERNI ST</td>\n",
       "      <td>West End</td>\n",
       "      <td>491007.7798</td>\n",
       "      <td>5459174.338</td>\n",
       "    </tr>\n",
       "    <tr>\n",
       "      <th>3</th>\n",
       "      <td>Break and Enter Commercial</td>\n",
       "      <td>2014</td>\n",
       "      <td>8</td>\n",
       "      <td>8</td>\n",
       "      <td>5</td>\n",
       "      <td>13</td>\n",
       "      <td>10XX ALBERNI ST</td>\n",
       "      <td>West End</td>\n",
       "      <td>491015.9434</td>\n",
       "      <td>5459166.140</td>\n",
       "    </tr>\n",
       "    <tr>\n",
       "      <th>4</th>\n",
       "      <td>Break and Enter Commercial</td>\n",
       "      <td>2020</td>\n",
       "      <td>7</td>\n",
       "      <td>28</td>\n",
       "      <td>19</td>\n",
       "      <td>12</td>\n",
       "      <td>10XX ALBERNI ST</td>\n",
       "      <td>West End</td>\n",
       "      <td>491015.9434</td>\n",
       "      <td>5459166.140</td>\n",
       "    </tr>\n",
       "  </tbody>\n",
       "</table>\n",
       "</div>"
      ],
      "text/plain": [
       "                         TYPE  YEAR  MONTH  DAY  HOUR  MINUTE  \\\n",
       "0  Break and Enter Commercial  2012     12   14     8      52   \n",
       "1  Break and Enter Commercial  2019      3    7     2       6   \n",
       "2  Break and Enter Commercial  2019      8   27     4      12   \n",
       "3  Break and Enter Commercial  2014      8    8     5      13   \n",
       "4  Break and Enter Commercial  2020      7   28    19      12   \n",
       "\n",
       "     HUNDRED_BLOCK NEIGHBOURHOOD            X            Y  \n",
       "0              NaN      Oakridge  491285.0000  5453433.000  \n",
       "1    10XX SITKA SQ      Fairview  490612.9648  5457109.822  \n",
       "2  10XX ALBERNI ST      West End  491007.7798  5459174.338  \n",
       "3  10XX ALBERNI ST      West End  491015.9434  5459166.140  \n",
       "4  10XX ALBERNI ST      West End  491015.9434  5459166.140  "
      ]
     },
     "execution_count": 38,
     "metadata": {},
     "output_type": "execute_result"
    }
   ],
   "source": [
    "df.head()"
   ]
  },
  {
   "cell_type": "code",
   "execution_count": 39,
   "metadata": {
    "ExecuteTime": {
     "end_time": "2020-11-01T04:47:11.816514Z",
     "start_time": "2020-11-01T04:47:11.804519Z"
    },
    "scrolled": true
   },
   "outputs": [
    {
     "name": "stdout",
     "output_type": "stream",
     "text": [
      " The dataset pulled today shows crimes from 2003 to 2020, and it has 655912 rows and 10 columns.\n"
     ]
    }
   ],
   "source": [
    "print(f' The dataset pulled today shows crimes from {df[\"YEAR\"].min()} to {df[\"YEAR\"].max()}, and it has {df.shape[0]} rows and {df.shape[1]} columns.')"
   ]
  },
  {
   "cell_type": "markdown",
   "metadata": {},
   "source": [
    "For the details of each column type:"
   ]
  },
  {
   "cell_type": "code",
   "execution_count": 40,
   "metadata": {
    "ExecuteTime": {
     "end_time": "2020-11-01T04:47:11.958513Z",
     "start_time": "2020-11-01T04:47:11.818511Z"
    }
   },
   "outputs": [
    {
     "name": "stdout",
     "output_type": "stream",
     "text": [
      "<class 'pandas.core.frame.DataFrame'>\n",
      "RangeIndex: 655912 entries, 0 to 655911\n",
      "Data columns (total 10 columns):\n",
      " #   Column         Non-Null Count   Dtype  \n",
      "---  ------         --------------   -----  \n",
      " 0   TYPE           655912 non-null  object \n",
      " 1   YEAR           655912 non-null  int64  \n",
      " 2   MONTH          655912 non-null  int64  \n",
      " 3   DAY            655912 non-null  int64  \n",
      " 4   HOUR           655912 non-null  int64  \n",
      " 5   MINUTE         655912 non-null  int64  \n",
      " 6   HUNDRED_BLOCK  655902 non-null  object \n",
      " 7   NEIGHBOURHOOD  587292 non-null  object \n",
      " 8   X              655791 non-null  float64\n",
      " 9   Y              655791 non-null  float64\n",
      "dtypes: float64(2), int64(5), object(3)\n",
      "memory usage: 50.0+ MB\n"
     ]
    }
   ],
   "source": [
    "df.info()"
   ]
  },
  {
   "cell_type": "markdown",
   "metadata": {},
   "source": [
    "We will now concatenate the `YEAR, MONTH, DAY, HOUR, MINUTE` columns following the format `\"yyyy-mm-dd hh:mm:ss\"` and convert it to `datetime64` object so we can do the time series analysis and other explorations:"
   ]
  },
  {
   "cell_type": "code",
   "execution_count": 41,
   "metadata": {
    "ExecuteTime": {
     "end_time": "2020-11-01T04:47:12.596631Z",
     "start_time": "2020-11-01T04:47:11.962516Z"
    }
   },
   "outputs": [],
   "source": [
    "# Combining the columns YEAR, MONTH, DAY, HOUR and MINUTE into one column and dropping the ones used as source\n",
    "df['DATE_TIME'] = pd.to_datetime(df[[\"YEAR\", \"MONTH\", \"DAY\", \"HOUR\", \"MINUTE\"]])\n",
    "df = df.drop([\"YEAR\", \"MONTH\", \"DAY\", \"HOUR\", \"MINUTE\"], axis=1)"
   ]
  },
  {
   "cell_type": "markdown",
   "metadata": {},
   "source": [
    "Here is the new structure with the consolidated DATE_TIME column:"
   ]
  },
  {
   "cell_type": "code",
   "execution_count": 42,
   "metadata": {
    "ExecuteTime": {
     "end_time": "2020-11-01T04:47:12.614605Z",
     "start_time": "2020-11-01T04:47:12.598594Z"
    }
   },
   "outputs": [
    {
     "data": {
      "text/html": [
       "<div>\n",
       "<style scoped>\n",
       "    .dataframe tbody tr th:only-of-type {\n",
       "        vertical-align: middle;\n",
       "    }\n",
       "\n",
       "    .dataframe tbody tr th {\n",
       "        vertical-align: top;\n",
       "    }\n",
       "\n",
       "    .dataframe thead th {\n",
       "        text-align: right;\n",
       "    }\n",
       "</style>\n",
       "<table border=\"1\" class=\"dataframe\">\n",
       "  <thead>\n",
       "    <tr style=\"text-align: right;\">\n",
       "      <th></th>\n",
       "      <th>TYPE</th>\n",
       "      <th>HUNDRED_BLOCK</th>\n",
       "      <th>NEIGHBOURHOOD</th>\n",
       "      <th>X</th>\n",
       "      <th>Y</th>\n",
       "      <th>DATE_TIME</th>\n",
       "    </tr>\n",
       "  </thead>\n",
       "  <tbody>\n",
       "    <tr>\n",
       "      <th>0</th>\n",
       "      <td>Break and Enter Commercial</td>\n",
       "      <td>NaN</td>\n",
       "      <td>Oakridge</td>\n",
       "      <td>491285.0000</td>\n",
       "      <td>5453433.000</td>\n",
       "      <td>2012-12-14 08:52:00</td>\n",
       "    </tr>\n",
       "    <tr>\n",
       "      <th>1</th>\n",
       "      <td>Break and Enter Commercial</td>\n",
       "      <td>10XX SITKA SQ</td>\n",
       "      <td>Fairview</td>\n",
       "      <td>490612.9648</td>\n",
       "      <td>5457109.822</td>\n",
       "      <td>2019-03-07 02:06:00</td>\n",
       "    </tr>\n",
       "    <tr>\n",
       "      <th>2</th>\n",
       "      <td>Break and Enter Commercial</td>\n",
       "      <td>10XX ALBERNI ST</td>\n",
       "      <td>West End</td>\n",
       "      <td>491007.7798</td>\n",
       "      <td>5459174.338</td>\n",
       "      <td>2019-08-27 04:12:00</td>\n",
       "    </tr>\n",
       "    <tr>\n",
       "      <th>3</th>\n",
       "      <td>Break and Enter Commercial</td>\n",
       "      <td>10XX ALBERNI ST</td>\n",
       "      <td>West End</td>\n",
       "      <td>491015.9434</td>\n",
       "      <td>5459166.140</td>\n",
       "      <td>2014-08-08 05:13:00</td>\n",
       "    </tr>\n",
       "    <tr>\n",
       "      <th>4</th>\n",
       "      <td>Break and Enter Commercial</td>\n",
       "      <td>10XX ALBERNI ST</td>\n",
       "      <td>West End</td>\n",
       "      <td>491015.9434</td>\n",
       "      <td>5459166.140</td>\n",
       "      <td>2020-07-28 19:12:00</td>\n",
       "    </tr>\n",
       "  </tbody>\n",
       "</table>\n",
       "</div>"
      ],
      "text/plain": [
       "                         TYPE    HUNDRED_BLOCK NEIGHBOURHOOD            X  \\\n",
       "0  Break and Enter Commercial              NaN      Oakridge  491285.0000   \n",
       "1  Break and Enter Commercial    10XX SITKA SQ      Fairview  490612.9648   \n",
       "2  Break and Enter Commercial  10XX ALBERNI ST      West End  491007.7798   \n",
       "3  Break and Enter Commercial  10XX ALBERNI ST      West End  491015.9434   \n",
       "4  Break and Enter Commercial  10XX ALBERNI ST      West End  491015.9434   \n",
       "\n",
       "             Y           DATE_TIME  \n",
       "0  5453433.000 2012-12-14 08:52:00  \n",
       "1  5457109.822 2019-03-07 02:06:00  \n",
       "2  5459174.338 2019-08-27 04:12:00  \n",
       "3  5459166.140 2014-08-08 05:13:00  \n",
       "4  5459166.140 2020-07-28 19:12:00  "
      ]
     },
     "execution_count": 42,
     "metadata": {},
     "output_type": "execute_result"
    }
   ],
   "source": [
    "# Showing the new format of the dataframe\n",
    "df.head()"
   ]
  },
  {
   "cell_type": "code",
   "execution_count": 43,
   "metadata": {
    "ExecuteTime": {
     "end_time": "2020-11-01T04:47:12.639596Z",
     "start_time": "2020-11-01T04:47:12.618597Z"
    }
   },
   "outputs": [
    {
     "name": "stdout",
     "output_type": "stream",
     "text": [
      " Now the dataset has 655912 rows and 6 columns, and the DATE_TIME column format is datetime64[ns].\n"
     ]
    }
   ],
   "source": [
    "print(f' Now the dataset has {df.shape[0]} rows and {df.shape[1]} columns, and the DATE_TIME column format is {df[\"DATE_TIME\"].dtype}.')"
   ]
  },
  {
   "cell_type": "markdown",
   "metadata": {},
   "source": [
    "### Null Values"
   ]
  },
  {
   "cell_type": "markdown",
   "metadata": {},
   "source": [
    "We will now check how many entries are null in each column and decide the best approach for those cases:"
   ]
  },
  {
   "cell_type": "code",
   "execution_count": 44,
   "metadata": {
    "ExecuteTime": {
     "end_time": "2020-11-01T04:47:12.775573Z",
     "start_time": "2020-11-01T04:47:12.643596Z"
    },
    "scrolled": true
   },
   "outputs": [
    {
     "data": {
      "text/plain": [
       "TYPE                 0\n",
       "HUNDRED_BLOCK       10\n",
       "NEIGHBOURHOOD    68620\n",
       "X                  121\n",
       "Y                  121\n",
       "DATE_TIME            0\n",
       "dtype: int64"
      ]
     },
     "execution_count": 44,
     "metadata": {},
     "output_type": "execute_result"
    }
   ],
   "source": [
    "# Calculating the number of null entries on the dataset\n",
    "df.isna().sum()"
   ]
  },
  {
   "cell_type": "markdown",
   "metadata": {},
   "source": [
    "> There are columns with null values and we will analyze each one separately:"
   ]
  },
  {
   "cell_type": "markdown",
   "metadata": {},
   "source": [
    "##### __Column: HUNDRED_BLOCK__\n",
    "\n",
    "There are 10 null values for the column as shown below:"
   ]
  },
  {
   "cell_type": "code",
   "execution_count": 45,
   "metadata": {
    "ExecuteTime": {
     "end_time": "2020-11-01T04:47:12.848572Z",
     "start_time": "2020-11-01T04:47:12.779572Z"
    }
   },
   "outputs": [
    {
     "data": {
      "text/html": [
       "<div>\n",
       "<style scoped>\n",
       "    .dataframe tbody tr th:only-of-type {\n",
       "        vertical-align: middle;\n",
       "    }\n",
       "\n",
       "    .dataframe tbody tr th {\n",
       "        vertical-align: top;\n",
       "    }\n",
       "\n",
       "    .dataframe thead th {\n",
       "        text-align: right;\n",
       "    }\n",
       "</style>\n",
       "<table border=\"1\" class=\"dataframe\">\n",
       "  <thead>\n",
       "    <tr style=\"text-align: right;\">\n",
       "      <th></th>\n",
       "      <th>TYPE</th>\n",
       "      <th>HUNDRED_BLOCK</th>\n",
       "      <th>NEIGHBOURHOOD</th>\n",
       "      <th>X</th>\n",
       "      <th>Y</th>\n",
       "      <th>DATE_TIME</th>\n",
       "    </tr>\n",
       "  </thead>\n",
       "  <tbody>\n",
       "    <tr>\n",
       "      <th>0</th>\n",
       "      <td>Break and Enter Commercial</td>\n",
       "      <td>NaN</td>\n",
       "      <td>Oakridge</td>\n",
       "      <td>491285.0</td>\n",
       "      <td>5453433.0</td>\n",
       "      <td>2012-12-14 08:52:00</td>\n",
       "    </tr>\n",
       "    <tr>\n",
       "      <th>41571</th>\n",
       "      <td>Break and Enter Residential/Other</td>\n",
       "      <td>NaN</td>\n",
       "      <td>Mount Pleasant</td>\n",
       "      <td>492807.0</td>\n",
       "      <td>5457236.0</td>\n",
       "      <td>2004-05-13 09:00:00</td>\n",
       "    </tr>\n",
       "    <tr>\n",
       "      <th>41572</th>\n",
       "      <td>Break and Enter Residential/Other</td>\n",
       "      <td>NaN</td>\n",
       "      <td>Oakridge</td>\n",
       "      <td>491854.0</td>\n",
       "      <td>5452682.0</td>\n",
       "      <td>2006-06-21 04:00:00</td>\n",
       "    </tr>\n",
       "    <tr>\n",
       "      <th>41573</th>\n",
       "      <td>Break and Enter Residential/Other</td>\n",
       "      <td>NaN</td>\n",
       "      <td>Riley Park</td>\n",
       "      <td>492276.0</td>\n",
       "      <td>5454816.0</td>\n",
       "      <td>2006-03-19 05:39:00</td>\n",
       "    </tr>\n",
       "    <tr>\n",
       "      <th>265604</th>\n",
       "      <td>Other Theft</td>\n",
       "      <td>NaN</td>\n",
       "      <td>Central Business District</td>\n",
       "      <td>491490.0</td>\n",
       "      <td>5458911.0</td>\n",
       "      <td>2004-11-05 16:00:00</td>\n",
       "    </tr>\n",
       "    <tr>\n",
       "      <th>265605</th>\n",
       "      <td>Other Theft</td>\n",
       "      <td>NaN</td>\n",
       "      <td>Strathcona</td>\n",
       "      <td>493928.0</td>\n",
       "      <td>5457452.0</td>\n",
       "      <td>2005-07-18 17:52:00</td>\n",
       "    </tr>\n",
       "    <tr>\n",
       "      <th>265606</th>\n",
       "      <td>Other Theft</td>\n",
       "      <td>NaN</td>\n",
       "      <td>Kitsilano</td>\n",
       "      <td>489325.0</td>\n",
       "      <td>5457606.0</td>\n",
       "      <td>2003-08-08 14:30:00</td>\n",
       "    </tr>\n",
       "    <tr>\n",
       "      <th>333872</th>\n",
       "      <td>Theft from Vehicle</td>\n",
       "      <td>NaN</td>\n",
       "      <td>Mount Pleasant</td>\n",
       "      <td>492366.0</td>\n",
       "      <td>5456595.0</td>\n",
       "      <td>2005-08-15 06:03:00</td>\n",
       "    </tr>\n",
       "    <tr>\n",
       "      <th>333873</th>\n",
       "      <td>Theft from Vehicle</td>\n",
       "      <td>NaN</td>\n",
       "      <td>West Point Grey</td>\n",
       "      <td>485156.0</td>\n",
       "      <td>5457770.0</td>\n",
       "      <td>2003-07-11 07:30:00</td>\n",
       "    </tr>\n",
       "    <tr>\n",
       "      <th>587090</th>\n",
       "      <td>Theft of Vehicle</td>\n",
       "      <td>NaN</td>\n",
       "      <td>Victoria-Fraserview</td>\n",
       "      <td>495178.0</td>\n",
       "      <td>5452000.0</td>\n",
       "      <td>2005-02-12 22:30:00</td>\n",
       "    </tr>\n",
       "  </tbody>\n",
       "</table>\n",
       "</div>"
      ],
      "text/plain": [
       "                                     TYPE HUNDRED_BLOCK  \\\n",
       "0              Break and Enter Commercial           NaN   \n",
       "41571   Break and Enter Residential/Other           NaN   \n",
       "41572   Break and Enter Residential/Other           NaN   \n",
       "41573   Break and Enter Residential/Other           NaN   \n",
       "265604                        Other Theft           NaN   \n",
       "265605                        Other Theft           NaN   \n",
       "265606                        Other Theft           NaN   \n",
       "333872                 Theft from Vehicle           NaN   \n",
       "333873                 Theft from Vehicle           NaN   \n",
       "587090                   Theft of Vehicle           NaN   \n",
       "\n",
       "                    NEIGHBOURHOOD         X          Y           DATE_TIME  \n",
       "0                        Oakridge  491285.0  5453433.0 2012-12-14 08:52:00  \n",
       "41571              Mount Pleasant  492807.0  5457236.0 2004-05-13 09:00:00  \n",
       "41572                    Oakridge  491854.0  5452682.0 2006-06-21 04:00:00  \n",
       "41573                  Riley Park  492276.0  5454816.0 2006-03-19 05:39:00  \n",
       "265604  Central Business District  491490.0  5458911.0 2004-11-05 16:00:00  \n",
       "265605                 Strathcona  493928.0  5457452.0 2005-07-18 17:52:00  \n",
       "265606                  Kitsilano  489325.0  5457606.0 2003-08-08 14:30:00  \n",
       "333872             Mount Pleasant  492366.0  5456595.0 2005-08-15 06:03:00  \n",
       "333873            West Point Grey  485156.0  5457770.0 2003-07-11 07:30:00  \n",
       "587090        Victoria-Fraserview  495178.0  5452000.0 2005-02-12 22:30:00  "
      ]
     },
     "execution_count": 45,
     "metadata": {},
     "output_type": "execute_result"
    }
   ],
   "source": [
    "# Blank hundred_block\n",
    "df[df[\"HUNDRED_BLOCK\"].isna()]"
   ]
  },
  {
   "cell_type": "markdown",
   "metadata": {},
   "source": [
    "This column carries the generalized location of the report crime activity and it would be useful in case we have entries that don't have coordinates or the `NEIGHBOURHOOD` column. We will first identify in how many entries this occurs and then decide if we should keep the column and deal with the null values or just drop it."
   ]
  },
  {
   "cell_type": "code",
   "execution_count": 46,
   "metadata": {
    "ExecuteTime": {
     "end_time": "2020-11-01T04:47:12.978571Z",
     "start_time": "2020-11-01T04:47:12.854573Z"
    }
   },
   "outputs": [
    {
     "data": {
      "text/html": [
       "<div>\n",
       "<style scoped>\n",
       "    .dataframe tbody tr th:only-of-type {\n",
       "        vertical-align: middle;\n",
       "    }\n",
       "\n",
       "    .dataframe tbody tr th {\n",
       "        vertical-align: top;\n",
       "    }\n",
       "\n",
       "    .dataframe thead th {\n",
       "        text-align: right;\n",
       "    }\n",
       "</style>\n",
       "<table border=\"1\" class=\"dataframe\">\n",
       "  <thead>\n",
       "    <tr style=\"text-align: right;\">\n",
       "      <th></th>\n",
       "      <th>TYPE</th>\n",
       "      <th>NEIGHBOURHOOD</th>\n",
       "      <th>X</th>\n",
       "      <th>Y</th>\n",
       "      <th>DATE_TIME</th>\n",
       "    </tr>\n",
       "    <tr>\n",
       "      <th>HUNDRED_BLOCK</th>\n",
       "      <th></th>\n",
       "      <th></th>\n",
       "      <th></th>\n",
       "      <th></th>\n",
       "      <th></th>\n",
       "    </tr>\n",
       "  </thead>\n",
       "  <tbody>\n",
       "    <tr>\n",
       "      <th>OFFSET TO PROTECT PRIVACY</th>\n",
       "      <td>65771</td>\n",
       "      <td>0</td>\n",
       "      <td>65771</td>\n",
       "      <td>65771</td>\n",
       "      <td>65771</td>\n",
       "    </tr>\n",
       "    <tr>\n",
       "      <th>X NK_LOC ST</th>\n",
       "      <td>2706</td>\n",
       "      <td>0</td>\n",
       "      <td>2706</td>\n",
       "      <td>2706</td>\n",
       "      <td>2706</td>\n",
       "    </tr>\n",
       "    <tr>\n",
       "      <th>14XX BURRARD STREET BRDG</th>\n",
       "      <td>3</td>\n",
       "      <td>0</td>\n",
       "      <td>3</td>\n",
       "      <td>3</td>\n",
       "      <td>3</td>\n",
       "    </tr>\n",
       "    <tr>\n",
       "      <th>15XX GRANVILLE STREET BRDG</th>\n",
       "      <td>3</td>\n",
       "      <td>0</td>\n",
       "      <td>3</td>\n",
       "      <td>3</td>\n",
       "      <td>3</td>\n",
       "    </tr>\n",
       "    <tr>\n",
       "      <th>SW MARINE DR / TAMATH CRES</th>\n",
       "      <td>2</td>\n",
       "      <td>0</td>\n",
       "      <td>2</td>\n",
       "      <td>2</td>\n",
       "      <td>2</td>\n",
       "    </tr>\n",
       "    <tr>\n",
       "      <th>...</th>\n",
       "      <td>...</td>\n",
       "      <td>...</td>\n",
       "      <td>...</td>\n",
       "      <td>...</td>\n",
       "      <td>...</td>\n",
       "    </tr>\n",
       "    <tr>\n",
       "      <th>7XX SE MARINE DR / 8198 FRASER ST</th>\n",
       "      <td>1</td>\n",
       "      <td>0</td>\n",
       "      <td>0</td>\n",
       "      <td>0</td>\n",
       "      <td>1</td>\n",
       "    </tr>\n",
       "    <tr>\n",
       "      <th>6XX BLK - DENMAN ST</th>\n",
       "      <td>1</td>\n",
       "      <td>0</td>\n",
       "      <td>0</td>\n",
       "      <td>0</td>\n",
       "      <td>1</td>\n",
       "    </tr>\n",
       "    <tr>\n",
       "      <th>6XX BL0CK KINGSWAY AV</th>\n",
       "      <td>1</td>\n",
       "      <td>0</td>\n",
       "      <td>0</td>\n",
       "      <td>0</td>\n",
       "      <td>1</td>\n",
       "    </tr>\n",
       "    <tr>\n",
       "      <th>69TH AV / ONTARIO ST</th>\n",
       "      <td>1</td>\n",
       "      <td>0</td>\n",
       "      <td>0</td>\n",
       "      <td>0</td>\n",
       "      <td>1</td>\n",
       "    </tr>\n",
       "    <tr>\n",
       "      <th>E 48TH AV/ KNIGHT ST</th>\n",
       "      <td>1</td>\n",
       "      <td>0</td>\n",
       "      <td>0</td>\n",
       "      <td>0</td>\n",
       "      <td>1</td>\n",
       "    </tr>\n",
       "  </tbody>\n",
       "</table>\n",
       "<p>134 rows × 5 columns</p>\n",
       "</div>"
      ],
      "text/plain": [
       "                                    TYPE  NEIGHBOURHOOD      X      Y  \\\n",
       "HUNDRED_BLOCK                                                           \n",
       "OFFSET TO PROTECT PRIVACY          65771              0  65771  65771   \n",
       "X NK_LOC ST                         2706              0   2706   2706   \n",
       "14XX BURRARD STREET BRDG               3              0      3      3   \n",
       "15XX GRANVILLE STREET BRDG             3              0      3      3   \n",
       "SW MARINE DR / TAMATH CRES             2              0      2      2   \n",
       "...                                  ...            ...    ...    ...   \n",
       "7XX SE MARINE DR / 8198 FRASER ST      1              0      0      0   \n",
       "6XX BLK - DENMAN ST                    1              0      0      0   \n",
       "6XX BL0CK KINGSWAY AV                  1              0      0      0   \n",
       "69TH AV / ONTARIO ST                   1              0      0      0   \n",
       "E 48TH AV/ KNIGHT ST                   1              0      0      0   \n",
       "\n",
       "                                   DATE_TIME  \n",
       "HUNDRED_BLOCK                                 \n",
       "OFFSET TO PROTECT PRIVACY              65771  \n",
       "X NK_LOC ST                             2706  \n",
       "14XX BURRARD STREET BRDG                   3  \n",
       "15XX GRANVILLE STREET BRDG                 3  \n",
       "SW MARINE DR / TAMATH CRES                 2  \n",
       "...                                      ...  \n",
       "7XX SE MARINE DR / 8198 FRASER ST          1  \n",
       "6XX BLK - DENMAN ST                        1  \n",
       "6XX BL0CK KINGSWAY AV                      1  \n",
       "69TH AV / ONTARIO ST                       1  \n",
       "E 48TH AV/ KNIGHT ST                       1  \n",
       "\n",
       "[134 rows x 5 columns]"
      ]
     },
     "execution_count": 46,
     "metadata": {},
     "output_type": "execute_result"
    }
   ],
   "source": [
    "# Filter cases where the HUNDRED_BLOCK is not empty and NEIGHBOURHOOD is blank\n",
    "df_hundred_block = df[df[\"HUNDRED_BLOCK\"].notna() & df[\"NEIGHBOURHOOD\"].isna()]\n",
    "df_hundred_block.groupby([\"HUNDRED_BLOCK\"]).count().sort_values(by='Y', ascending=False)"
   ]
  },
  {
   "cell_type": "markdown",
   "metadata": {},
   "source": [
    "> Most of the null entries on the `NEIGHBOURHOOD` column, also had the `HUNDRED_BLOCK` removed for privacy reasons - labeled as `OFFSET TO PROTECT PRIVACY` AND `X NK_LOC ST` -  so we decided to drop the whole `HUNDRED_BLOCK` column from the dataset as it doesn't add meaning to the analysis."
   ]
  },
  {
   "cell_type": "code",
   "execution_count": 47,
   "metadata": {
    "ExecuteTime": {
     "end_time": "2020-11-01T04:47:13.021571Z",
     "start_time": "2020-11-01T04:47:12.981570Z"
    }
   },
   "outputs": [],
   "source": [
    "# Dropping the HUNDRED_BLOCK column from the dataset\n",
    "df = df.drop([\"HUNDRED_BLOCK\"], axis=1)"
   ]
  },
  {
   "cell_type": "markdown",
   "metadata": {},
   "source": [
    "Now we will check the new structure of the table:"
   ]
  },
  {
   "cell_type": "code",
   "execution_count": 48,
   "metadata": {
    "ExecuteTime": {
     "end_time": "2020-11-01T04:47:13.052575Z",
     "start_time": "2020-11-01T04:47:13.023569Z"
    }
   },
   "outputs": [
    {
     "data": {
      "text/html": [
       "<div>\n",
       "<style scoped>\n",
       "    .dataframe tbody tr th:only-of-type {\n",
       "        vertical-align: middle;\n",
       "    }\n",
       "\n",
       "    .dataframe tbody tr th {\n",
       "        vertical-align: top;\n",
       "    }\n",
       "\n",
       "    .dataframe thead th {\n",
       "        text-align: right;\n",
       "    }\n",
       "</style>\n",
       "<table border=\"1\" class=\"dataframe\">\n",
       "  <thead>\n",
       "    <tr style=\"text-align: right;\">\n",
       "      <th></th>\n",
       "      <th>TYPE</th>\n",
       "      <th>NEIGHBOURHOOD</th>\n",
       "      <th>X</th>\n",
       "      <th>Y</th>\n",
       "      <th>DATE_TIME</th>\n",
       "    </tr>\n",
       "  </thead>\n",
       "  <tbody>\n",
       "    <tr>\n",
       "      <th>0</th>\n",
       "      <td>Break and Enter Commercial</td>\n",
       "      <td>Oakridge</td>\n",
       "      <td>491285.0000</td>\n",
       "      <td>5453433.000</td>\n",
       "      <td>2012-12-14 08:52:00</td>\n",
       "    </tr>\n",
       "    <tr>\n",
       "      <th>1</th>\n",
       "      <td>Break and Enter Commercial</td>\n",
       "      <td>Fairview</td>\n",
       "      <td>490612.9648</td>\n",
       "      <td>5457109.822</td>\n",
       "      <td>2019-03-07 02:06:00</td>\n",
       "    </tr>\n",
       "    <tr>\n",
       "      <th>2</th>\n",
       "      <td>Break and Enter Commercial</td>\n",
       "      <td>West End</td>\n",
       "      <td>491007.7798</td>\n",
       "      <td>5459174.338</td>\n",
       "      <td>2019-08-27 04:12:00</td>\n",
       "    </tr>\n",
       "    <tr>\n",
       "      <th>3</th>\n",
       "      <td>Break and Enter Commercial</td>\n",
       "      <td>West End</td>\n",
       "      <td>491015.9434</td>\n",
       "      <td>5459166.140</td>\n",
       "      <td>2014-08-08 05:13:00</td>\n",
       "    </tr>\n",
       "    <tr>\n",
       "      <th>4</th>\n",
       "      <td>Break and Enter Commercial</td>\n",
       "      <td>West End</td>\n",
       "      <td>491015.9434</td>\n",
       "      <td>5459166.140</td>\n",
       "      <td>2020-07-28 19:12:00</td>\n",
       "    </tr>\n",
       "  </tbody>\n",
       "</table>\n",
       "</div>"
      ],
      "text/plain": [
       "                         TYPE NEIGHBOURHOOD            X            Y  \\\n",
       "0  Break and Enter Commercial      Oakridge  491285.0000  5453433.000   \n",
       "1  Break and Enter Commercial      Fairview  490612.9648  5457109.822   \n",
       "2  Break and Enter Commercial      West End  491007.7798  5459174.338   \n",
       "3  Break and Enter Commercial      West End  491015.9434  5459166.140   \n",
       "4  Break and Enter Commercial      West End  491015.9434  5459166.140   \n",
       "\n",
       "            DATE_TIME  \n",
       "0 2012-12-14 08:52:00  \n",
       "1 2019-03-07 02:06:00  \n",
       "2 2019-08-27 04:12:00  \n",
       "3 2014-08-08 05:13:00  \n",
       "4 2020-07-28 19:12:00  "
      ]
     },
     "execution_count": 48,
     "metadata": {},
     "output_type": "execute_result"
    }
   ],
   "source": [
    "df.head()"
   ]
  },
  {
   "cell_type": "markdown",
   "metadata": {},
   "source": [
    "___Columns: `X`, `Y` and `NEIGHBOURHOOD`___"
   ]
  },
  {
   "cell_type": "code",
   "execution_count": 49,
   "metadata": {
    "ExecuteTime": {
     "end_time": "2020-11-01T04:47:13.151572Z",
     "start_time": "2020-11-01T04:47:13.059577Z"
    },
    "scrolled": true
   },
   "outputs": [
    {
     "data": {
      "text/plain": [
       "TYPE                 0\n",
       "NEIGHBOURHOOD    68620\n",
       "X                  121\n",
       "Y                  121\n",
       "DATE_TIME            0\n",
       "dtype: int64"
      ]
     },
     "execution_count": 49,
     "metadata": {},
     "output_type": "execute_result"
    }
   ],
   "source": [
    "# Number of null entries on the dataset\n",
    "df.isna().sum()"
   ]
  },
  {
   "cell_type": "markdown",
   "metadata": {},
   "source": [
    "For the remaining columns with null values, we will use the City of Vancouver GeoData file for cross reference."
   ]
  },
  {
   "cell_type": "code",
   "execution_count": 50,
   "metadata": {
    "ExecuteTime": {
     "end_time": "2020-11-01T04:47:17.952331Z",
     "start_time": "2020-11-01T04:47:13.155571Z"
    }
   },
   "outputs": [],
   "source": [
    "# Creating the new dataset For EDA, we will use the CSV data on Tableau:\n",
    "df.to_csv(r'Output\\crimedata_w_date_time.csv', index=False,header=True)"
   ]
  },
  {
   "cell_type": "markdown",
   "metadata": {},
   "source": [
    "#### Using GeoData for Null Neighbourhoods and (X,Y)"
   ]
  },
  {
   "cell_type": "markdown",
   "metadata": {},
   "source": [
    "The VPD has removed the information about Neighbourhoods and/or (X,Y) coordinates for specific type of crimes.\n",
    "\n",
    "To be able to standardize all the entries, we first need to convert our dataframe coordinates to geometries and then cross reference with the City of Vancouver local boundary file."
   ]
  },
  {
   "cell_type": "markdown",
   "metadata": {},
   "source": [
    "For the geographic conversion, we will use the package [GeoPandas](https://geopandas.org/):\n",
    "\n",
    "_\"The goal of GeoPandas is to make working with geospatial data in python easier. It combines the capabilities of pandas and shapely, providing geospatial operations in pandas and a high-level interface to multiple geometries to shapely. GeoPandas enables you to easily do operations in python that would otherwise require a spatial database such as PostGIS.\"_"
   ]
  },
  {
   "cell_type": "code",
   "execution_count": 51,
   "metadata": {
    "ExecuteTime": {
     "end_time": "2020-11-01T04:47:25.680449Z",
     "start_time": "2020-11-01T04:47:17.955330Z"
    }
   },
   "outputs": [
    {
     "data": {
      "text/html": [
       "<div>\n",
       "<style scoped>\n",
       "    .dataframe tbody tr th:only-of-type {\n",
       "        vertical-align: middle;\n",
       "    }\n",
       "\n",
       "    .dataframe tbody tr th {\n",
       "        vertical-align: top;\n",
       "    }\n",
       "\n",
       "    .dataframe thead th {\n",
       "        text-align: right;\n",
       "    }\n",
       "</style>\n",
       "<table border=\"1\" class=\"dataframe\">\n",
       "  <thead>\n",
       "    <tr style=\"text-align: right;\">\n",
       "      <th></th>\n",
       "      <th>TYPE</th>\n",
       "      <th>NEIGHBOURHOOD</th>\n",
       "      <th>X</th>\n",
       "      <th>Y</th>\n",
       "      <th>DATE_TIME</th>\n",
       "      <th>geometry</th>\n",
       "    </tr>\n",
       "  </thead>\n",
       "  <tbody>\n",
       "    <tr>\n",
       "      <th>0</th>\n",
       "      <td>Break and Enter Commercial</td>\n",
       "      <td>Oakridge</td>\n",
       "      <td>491285.0000</td>\n",
       "      <td>5453433.000</td>\n",
       "      <td>2012-12-14 08:52:00</td>\n",
       "      <td>POINT (491285.000 5453433.000)</td>\n",
       "    </tr>\n",
       "    <tr>\n",
       "      <th>1</th>\n",
       "      <td>Break and Enter Commercial</td>\n",
       "      <td>Fairview</td>\n",
       "      <td>490612.9648</td>\n",
       "      <td>5457109.822</td>\n",
       "      <td>2019-03-07 02:06:00</td>\n",
       "      <td>POINT (490612.965 5457109.822)</td>\n",
       "    </tr>\n",
       "    <tr>\n",
       "      <th>2</th>\n",
       "      <td>Break and Enter Commercial</td>\n",
       "      <td>West End</td>\n",
       "      <td>491007.7798</td>\n",
       "      <td>5459174.338</td>\n",
       "      <td>2019-08-27 04:12:00</td>\n",
       "      <td>POINT (491007.780 5459174.338)</td>\n",
       "    </tr>\n",
       "    <tr>\n",
       "      <th>3</th>\n",
       "      <td>Break and Enter Commercial</td>\n",
       "      <td>West End</td>\n",
       "      <td>491015.9434</td>\n",
       "      <td>5459166.140</td>\n",
       "      <td>2014-08-08 05:13:00</td>\n",
       "      <td>POINT (491015.943 5459166.140)</td>\n",
       "    </tr>\n",
       "    <tr>\n",
       "      <th>4</th>\n",
       "      <td>Break and Enter Commercial</td>\n",
       "      <td>West End</td>\n",
       "      <td>491015.9434</td>\n",
       "      <td>5459166.140</td>\n",
       "      <td>2020-07-28 19:12:00</td>\n",
       "      <td>POINT (491015.943 5459166.140)</td>\n",
       "    </tr>\n",
       "    <tr>\n",
       "      <th>...</th>\n",
       "      <td>...</td>\n",
       "      <td>...</td>\n",
       "      <td>...</td>\n",
       "      <td>...</td>\n",
       "      <td>...</td>\n",
       "      <td>...</td>\n",
       "    </tr>\n",
       "    <tr>\n",
       "      <th>655907</th>\n",
       "      <td>Vehicle Collision or Pedestrian Struck (with I...</td>\n",
       "      <td>Riley Park</td>\n",
       "      <td>491786.0000</td>\n",
       "      <td>5455143.000</td>\n",
       "      <td>2003-09-01 20:45:00</td>\n",
       "      <td>POINT (491786.000 5455143.000)</td>\n",
       "    </tr>\n",
       "    <tr>\n",
       "      <th>655908</th>\n",
       "      <td>Vehicle Collision or Pedestrian Struck (with I...</td>\n",
       "      <td>Riley Park</td>\n",
       "      <td>491786.0000</td>\n",
       "      <td>5455143.000</td>\n",
       "      <td>2005-07-20 18:57:00</td>\n",
       "      <td>POINT (491786.000 5455143.000)</td>\n",
       "    </tr>\n",
       "    <tr>\n",
       "      <th>655909</th>\n",
       "      <td>Vehicle Collision or Pedestrian Struck (with I...</td>\n",
       "      <td>Riley Park</td>\n",
       "      <td>491786.0000</td>\n",
       "      <td>5455143.000</td>\n",
       "      <td>2016-06-20 18:11:00</td>\n",
       "      <td>POINT (491786.000 5455143.000)</td>\n",
       "    </tr>\n",
       "    <tr>\n",
       "      <th>655910</th>\n",
       "      <td>Vehicle Collision or Pedestrian Struck (with I...</td>\n",
       "      <td>Riley Park</td>\n",
       "      <td>491835.0000</td>\n",
       "      <td>5455126.000</td>\n",
       "      <td>2013-12-03 09:49:00</td>\n",
       "      <td>POINT (491835.000 5455126.000)</td>\n",
       "    </tr>\n",
       "    <tr>\n",
       "      <th>655911</th>\n",
       "      <td>Vehicle Collision or Pedestrian Struck (with I...</td>\n",
       "      <td>Riley Park</td>\n",
       "      <td>491835.0000</td>\n",
       "      <td>5455126.000</td>\n",
       "      <td>2013-12-27 14:40:00</td>\n",
       "      <td>POINT (491835.000 5455126.000)</td>\n",
       "    </tr>\n",
       "  </tbody>\n",
       "</table>\n",
       "<p>655912 rows × 6 columns</p>\n",
       "</div>"
      ],
      "text/plain": [
       "                                                     TYPE NEIGHBOURHOOD  \\\n",
       "0                              Break and Enter Commercial      Oakridge   \n",
       "1                              Break and Enter Commercial      Fairview   \n",
       "2                              Break and Enter Commercial      West End   \n",
       "3                              Break and Enter Commercial      West End   \n",
       "4                              Break and Enter Commercial      West End   \n",
       "...                                                   ...           ...   \n",
       "655907  Vehicle Collision or Pedestrian Struck (with I...    Riley Park   \n",
       "655908  Vehicle Collision or Pedestrian Struck (with I...    Riley Park   \n",
       "655909  Vehicle Collision or Pedestrian Struck (with I...    Riley Park   \n",
       "655910  Vehicle Collision or Pedestrian Struck (with I...    Riley Park   \n",
       "655911  Vehicle Collision or Pedestrian Struck (with I...    Riley Park   \n",
       "\n",
       "                  X            Y           DATE_TIME  \\\n",
       "0       491285.0000  5453433.000 2012-12-14 08:52:00   \n",
       "1       490612.9648  5457109.822 2019-03-07 02:06:00   \n",
       "2       491007.7798  5459174.338 2019-08-27 04:12:00   \n",
       "3       491015.9434  5459166.140 2014-08-08 05:13:00   \n",
       "4       491015.9434  5459166.140 2020-07-28 19:12:00   \n",
       "...             ...          ...                 ...   \n",
       "655907  491786.0000  5455143.000 2003-09-01 20:45:00   \n",
       "655908  491786.0000  5455143.000 2005-07-20 18:57:00   \n",
       "655909  491786.0000  5455143.000 2016-06-20 18:11:00   \n",
       "655910  491835.0000  5455126.000 2013-12-03 09:49:00   \n",
       "655911  491835.0000  5455126.000 2013-12-27 14:40:00   \n",
       "\n",
       "                              geometry  \n",
       "0       POINT (491285.000 5453433.000)  \n",
       "1       POINT (490612.965 5457109.822)  \n",
       "2       POINT (491007.780 5459174.338)  \n",
       "3       POINT (491015.943 5459166.140)  \n",
       "4       POINT (491015.943 5459166.140)  \n",
       "...                                ...  \n",
       "655907  POINT (491786.000 5455143.000)  \n",
       "655908  POINT (491786.000 5455143.000)  \n",
       "655909  POINT (491786.000 5455143.000)  \n",
       "655910  POINT (491835.000 5455126.000)  \n",
       "655911  POINT (491835.000 5455126.000)  \n",
       "\n",
       "[655912 rows x 6 columns]"
      ]
     },
     "execution_count": 51,
     "metadata": {},
     "output_type": "execute_result"
    }
   ],
   "source": [
    "# Converting the X and Y into standardized coordinates\n",
    "gdf = gpd.GeoDataFrame(df, geometry=gpd.points_from_xy(df.X, df.Y))\n",
    "\n",
    "# Transforming the dataset to the same Coordinate Reference Systems (CRS) than the City of Vancouver Boundary Data\n",
    "gdf = gdf.set_crs(epsg=4326)\n",
    "\n",
    "# VPD dataset with the X and Y as Geometry points\n",
    "gdf"
   ]
  },
  {
   "cell_type": "markdown",
   "metadata": {},
   "source": [
    "The new column \"geometry\" is the (X, Y) on the [WGS84 EPSG:4326](https://www.unoosa.org/pdf/icg/2012/template/WGS_84.pdf) format.\n",
    "\n",
    "WGS 84 is an Earth-centered and is based on a consistent set of constants and model parameters that describe the Earth's size, shape, and gravity and geomagnetic fields. WGS 84 is the standard U.S. Department of Defense definition of a global reference system for geospatial information and is the reference system for the Global Positioning System (GPS). It is compatible with the International Terrestrial Reference System (ITRS). \n",
    "\n",
    "\n",
    "That is also the same format as the City of Vancouver Local Area Boundary file so we can standardize the neighbourhoods."
   ]
  },
  {
   "cell_type": "markdown",
   "metadata": {},
   "source": [
    "The file extracted from the City of Vancouver Open Data is a GeoJSON file with the polygons that define each neighbourhood. We will join it with the VPD data for the following benefits: \n",
    "* ability to input and identify the neighbourhood names to entries that have it NaN\n",
    "* standardize the locations based on the city's geometry"
   ]
  },
  {
   "cell_type": "code",
   "execution_count": 52,
   "metadata": {
    "ExecuteTime": {
     "end_time": "2020-11-01T04:47:25.801448Z",
     "start_time": "2020-11-01T04:47:25.684445Z"
    }
   },
   "outputs": [
    {
     "data": {
      "text/html": [
       "<div>\n",
       "<style scoped>\n",
       "    .dataframe tbody tr th:only-of-type {\n",
       "        vertical-align: middle;\n",
       "    }\n",
       "\n",
       "    .dataframe tbody tr th {\n",
       "        vertical-align: top;\n",
       "    }\n",
       "\n",
       "    .dataframe thead th {\n",
       "        text-align: right;\n",
       "    }\n",
       "</style>\n",
       "<table border=\"1\" class=\"dataframe\">\n",
       "  <thead>\n",
       "    <tr style=\"text-align: right;\">\n",
       "      <th></th>\n",
       "      <th>mapid</th>\n",
       "      <th>name</th>\n",
       "      <th>geometry</th>\n",
       "    </tr>\n",
       "  </thead>\n",
       "  <tbody>\n",
       "    <tr>\n",
       "      <th>0</th>\n",
       "      <td>DS</td>\n",
       "      <td>Dunbar-Southlands</td>\n",
       "      <td>POLYGON ((487615.515 5455027.115, 487606.108 5...</td>\n",
       "    </tr>\n",
       "    <tr>\n",
       "      <th>1</th>\n",
       "      <td>KERR</td>\n",
       "      <td>Kerrisdale</td>\n",
       "      <td>POLYGON ((486957.910 5451434.123, 487209.002 5...</td>\n",
       "    </tr>\n",
       "    <tr>\n",
       "      <th>2</th>\n",
       "      <td>KIL</td>\n",
       "      <td>Killarney</td>\n",
       "      <td>POLYGON ((498283.709 5449705.686, 497087.865 5...</td>\n",
       "    </tr>\n",
       "    <tr>\n",
       "      <th>3</th>\n",
       "      <td>KITS</td>\n",
       "      <td>Kitsilano</td>\n",
       "      <td>POLYGON ((489985.357 5458071.445, 489543.730 5...</td>\n",
       "    </tr>\n",
       "    <tr>\n",
       "      <th>4</th>\n",
       "      <td>SC</td>\n",
       "      <td>South Cambie</td>\n",
       "      <td>POLYGON ((491556.708 5453913.232, 491543.175 5...</td>\n",
       "    </tr>\n",
       "    <tr>\n",
       "      <th>5</th>\n",
       "      <td>VF</td>\n",
       "      <td>Victoria-Fraserview</td>\n",
       "      <td>POLYGON ((495860.231 5450157.767, 495741.302 5...</td>\n",
       "    </tr>\n",
       "    <tr>\n",
       "      <th>6</th>\n",
       "      <td>KC</td>\n",
       "      <td>Kensington-Cedar Cottage</td>\n",
       "      <td>POLYGON ((495882.819 5456581.278, 495878.479 5...</td>\n",
       "    </tr>\n",
       "    <tr>\n",
       "      <th>7</th>\n",
       "      <td>MP</td>\n",
       "      <td>Mount Pleasant</td>\n",
       "      <td>POLYGON ((492676.507 5457379.341, 492948.719 5...</td>\n",
       "    </tr>\n",
       "    <tr>\n",
       "      <th>8</th>\n",
       "      <td>OAK</td>\n",
       "      <td>Oakridge</td>\n",
       "      <td>POLYGON ((492310.707 5453376.091, 492269.051 5...</td>\n",
       "    </tr>\n",
       "    <tr>\n",
       "      <th>9</th>\n",
       "      <td>RC</td>\n",
       "      <td>Renfrew-Collingwood</td>\n",
       "      <td>POLYGON ((498284.908 5453557.161, 498284.265 5...</td>\n",
       "    </tr>\n",
       "    <tr>\n",
       "      <th>10</th>\n",
       "      <td>SUN</td>\n",
       "      <td>Sunset</td>\n",
       "      <td>POLYGON ((492208.402 5450157.054, 492269.051 5...</td>\n",
       "    </tr>\n",
       "    <tr>\n",
       "      <th>11</th>\n",
       "      <td>WPG</td>\n",
       "      <td>West Point Grey</td>\n",
       "      <td>POLYGON ((483675.094 5458487.318, 485078.200 5...</td>\n",
       "    </tr>\n",
       "    <tr>\n",
       "      <th>12</th>\n",
       "      <td>AR</td>\n",
       "      <td>Arbutus-Ridge</td>\n",
       "      <td>POLYGON ((488896.369 5456062.111, 488002.621 5...</td>\n",
       "    </tr>\n",
       "    <tr>\n",
       "      <th>13</th>\n",
       "      <td>CBD</td>\n",
       "      <td>Downtown</td>\n",
       "      <td>POLYGON ((491836.349 5459718.919, 492419.675 5...</td>\n",
       "    </tr>\n",
       "    <tr>\n",
       "      <th>14</th>\n",
       "      <td>FAIR</td>\n",
       "      <td>Fairview</td>\n",
       "      <td>POLYGON ((489377.110 5456049.711, 489423.004 5...</td>\n",
       "    </tr>\n",
       "    <tr>\n",
       "      <th>15</th>\n",
       "      <td>GW</td>\n",
       "      <td>Grandview-Woodland</td>\n",
       "      <td>POLYGON ((494399.462 5459725.039, 495071.290 5...</td>\n",
       "    </tr>\n",
       "    <tr>\n",
       "      <th>16</th>\n",
       "      <td>HS</td>\n",
       "      <td>Hastings-Sunrise</td>\n",
       "      <td>POLYGON ((495892.653 5460083.768, 496226.106 5...</td>\n",
       "    </tr>\n",
       "    <tr>\n",
       "      <th>17</th>\n",
       "      <td>MARP</td>\n",
       "      <td>Marpole</td>\n",
       "      <td>POLYGON ((492208.402 5450157.054, 491875.556 5...</td>\n",
       "    </tr>\n",
       "    <tr>\n",
       "      <th>18</th>\n",
       "      <td>RP</td>\n",
       "      <td>Riley Park</td>\n",
       "      <td>POLYGON ((492310.707 5453376.091, 491543.175 5...</td>\n",
       "    </tr>\n",
       "    <tr>\n",
       "      <th>19</th>\n",
       "      <td>SHAU</td>\n",
       "      <td>Shaughnessy</td>\n",
       "      <td>POLYGON ((488696.329 5453538.809, 488711.325 5...</td>\n",
       "    </tr>\n",
       "    <tr>\n",
       "      <th>20</th>\n",
       "      <td>STR</td>\n",
       "      <td>Strathcona</td>\n",
       "      <td>POLYGON ((492779.907 5459618.363, 493171.763 5...</td>\n",
       "    </tr>\n",
       "    <tr>\n",
       "      <th>21</th>\n",
       "      <td>WE</td>\n",
       "      <td>West End</td>\n",
       "      <td>POLYGON ((489985.357 5458071.445, 489725.703 5...</td>\n",
       "    </tr>\n",
       "  </tbody>\n",
       "</table>\n",
       "</div>"
      ],
      "text/plain": [
       "   mapid                      name  \\\n",
       "0     DS         Dunbar-Southlands   \n",
       "1   KERR                Kerrisdale   \n",
       "2    KIL                 Killarney   \n",
       "3   KITS                 Kitsilano   \n",
       "4     SC              South Cambie   \n",
       "5     VF       Victoria-Fraserview   \n",
       "6     KC  Kensington-Cedar Cottage   \n",
       "7     MP            Mount Pleasant   \n",
       "8    OAK                  Oakridge   \n",
       "9     RC       Renfrew-Collingwood   \n",
       "10   SUN                    Sunset   \n",
       "11   WPG           West Point Grey   \n",
       "12    AR             Arbutus-Ridge   \n",
       "13   CBD                  Downtown   \n",
       "14  FAIR                  Fairview   \n",
       "15    GW        Grandview-Woodland   \n",
       "16    HS          Hastings-Sunrise   \n",
       "17  MARP                   Marpole   \n",
       "18    RP                Riley Park   \n",
       "19  SHAU               Shaughnessy   \n",
       "20   STR                Strathcona   \n",
       "21    WE                  West End   \n",
       "\n",
       "                                             geometry  \n",
       "0   POLYGON ((487615.515 5455027.115, 487606.108 5...  \n",
       "1   POLYGON ((486957.910 5451434.123, 487209.002 5...  \n",
       "2   POLYGON ((498283.709 5449705.686, 497087.865 5...  \n",
       "3   POLYGON ((489985.357 5458071.445, 489543.730 5...  \n",
       "4   POLYGON ((491556.708 5453913.232, 491543.175 5...  \n",
       "5   POLYGON ((495860.231 5450157.767, 495741.302 5...  \n",
       "6   POLYGON ((495882.819 5456581.278, 495878.479 5...  \n",
       "7   POLYGON ((492676.507 5457379.341, 492948.719 5...  \n",
       "8   POLYGON ((492310.707 5453376.091, 492269.051 5...  \n",
       "9   POLYGON ((498284.908 5453557.161, 498284.265 5...  \n",
       "10  POLYGON ((492208.402 5450157.054, 492269.051 5...  \n",
       "11  POLYGON ((483675.094 5458487.318, 485078.200 5...  \n",
       "12  POLYGON ((488896.369 5456062.111, 488002.621 5...  \n",
       "13  POLYGON ((491836.349 5459718.919, 492419.675 5...  \n",
       "14  POLYGON ((489377.110 5456049.711, 489423.004 5...  \n",
       "15  POLYGON ((494399.462 5459725.039, 495071.290 5...  \n",
       "16  POLYGON ((495892.653 5460083.768, 496226.106 5...  \n",
       "17  POLYGON ((492208.402 5450157.054, 491875.556 5...  \n",
       "18  POLYGON ((492310.707 5453376.091, 491543.175 5...  \n",
       "19  POLYGON ((488696.329 5453538.809, 488711.325 5...  \n",
       "20  POLYGON ((492779.907 5459618.363, 493171.763 5...  \n",
       "21  POLYGON ((489985.357 5458071.445, 489725.703 5...  "
      ]
     },
     "execution_count": 52,
     "metadata": {},
     "output_type": "execute_result"
    }
   ],
   "source": [
    "# Importing City of Vancouver Local Area Boundary file\n",
    "neighbourhoods = gpd.read_file(\"data/local-area-boundary.geojson\")\n",
    "neighbourhoods"
   ]
  },
  {
   "cell_type": "code",
   "execution_count": 53,
   "metadata": {
    "ExecuteTime": {
     "end_time": "2020-11-01T04:48:07.563367Z",
     "start_time": "2020-11-01T04:47:25.804455Z"
    }
   },
   "outputs": [],
   "source": [
    "# Joining both datasets based on the geometry column\n",
    "sjoined = gpd.sjoin(gdf, neighbourhoods, op='within', how='inner' )"
   ]
  },
  {
   "cell_type": "markdown",
   "metadata": {},
   "source": [
    "The new table has 9 columns and some of them bring the same information. We will decide the ones that will be used for future analysis:"
   ]
  },
  {
   "cell_type": "code",
   "execution_count": 54,
   "metadata": {
    "ExecuteTime": {
     "end_time": "2020-11-01T04:48:07.605388Z",
     "start_time": "2020-11-01T04:48:07.565368Z"
    }
   },
   "outputs": [
    {
     "data": {
      "text/html": [
       "<div>\n",
       "<style scoped>\n",
       "    .dataframe tbody tr th:only-of-type {\n",
       "        vertical-align: middle;\n",
       "    }\n",
       "\n",
       "    .dataframe tbody tr th {\n",
       "        vertical-align: top;\n",
       "    }\n",
       "\n",
       "    .dataframe thead th {\n",
       "        text-align: right;\n",
       "    }\n",
       "</style>\n",
       "<table border=\"1\" class=\"dataframe\">\n",
       "  <thead>\n",
       "    <tr style=\"text-align: right;\">\n",
       "      <th></th>\n",
       "      <th>TYPE</th>\n",
       "      <th>NEIGHBOURHOOD</th>\n",
       "      <th>X</th>\n",
       "      <th>Y</th>\n",
       "      <th>DATE_TIME</th>\n",
       "      <th>geometry</th>\n",
       "      <th>index_right</th>\n",
       "      <th>mapid</th>\n",
       "      <th>name</th>\n",
       "    </tr>\n",
       "  </thead>\n",
       "  <tbody>\n",
       "    <tr>\n",
       "      <th>0</th>\n",
       "      <td>Break and Enter Commercial</td>\n",
       "      <td>Oakridge</td>\n",
       "      <td>491285.0000</td>\n",
       "      <td>5453433.000</td>\n",
       "      <td>2012-12-14 08:52:00</td>\n",
       "      <td>POINT (491285.000 5453433.000)</td>\n",
       "      <td>4</td>\n",
       "      <td>SC</td>\n",
       "      <td>South Cambie</td>\n",
       "    </tr>\n",
       "    <tr>\n",
       "      <th>22520</th>\n",
       "      <td>Break and Enter Commercial</td>\n",
       "      <td>South Cambie</td>\n",
       "      <td>491399.1148</td>\n",
       "      <td>5456000.366</td>\n",
       "      <td>2006-01-21 08:15:00</td>\n",
       "      <td>POINT (491399.115 5456000.366)</td>\n",
       "      <td>4</td>\n",
       "      <td>SC</td>\n",
       "      <td>South Cambie</td>\n",
       "    </tr>\n",
       "    <tr>\n",
       "      <th>22521</th>\n",
       "      <td>Break and Enter Commercial</td>\n",
       "      <td>South Cambie</td>\n",
       "      <td>491399.1148</td>\n",
       "      <td>5456000.366</td>\n",
       "      <td>2007-01-20 14:00:00</td>\n",
       "      <td>POINT (491399.115 5456000.366)</td>\n",
       "      <td>4</td>\n",
       "      <td>SC</td>\n",
       "      <td>South Cambie</td>\n",
       "    </tr>\n",
       "    <tr>\n",
       "      <th>22522</th>\n",
       "      <td>Break and Enter Commercial</td>\n",
       "      <td>South Cambie</td>\n",
       "      <td>491619.2177</td>\n",
       "      <td>5455914.671</td>\n",
       "      <td>2006-06-27 23:30:00</td>\n",
       "      <td>POINT (491619.218 5455914.671)</td>\n",
       "      <td>4</td>\n",
       "      <td>SC</td>\n",
       "      <td>South Cambie</td>\n",
       "    </tr>\n",
       "    <tr>\n",
       "      <th>22523</th>\n",
       "      <td>Break and Enter Commercial</td>\n",
       "      <td>South Cambie</td>\n",
       "      <td>491620.0123</td>\n",
       "      <td>5455934.710</td>\n",
       "      <td>2018-03-04 01:55:00</td>\n",
       "      <td>POINT (491620.012 5455934.710)</td>\n",
       "      <td>4</td>\n",
       "      <td>SC</td>\n",
       "      <td>South Cambie</td>\n",
       "    </tr>\n",
       "    <tr>\n",
       "      <th>...</th>\n",
       "      <td>...</td>\n",
       "      <td>...</td>\n",
       "      <td>...</td>\n",
       "      <td>...</td>\n",
       "      <td>...</td>\n",
       "      <td>...</td>\n",
       "      <td>...</td>\n",
       "      <td>...</td>\n",
       "      <td>...</td>\n",
       "    </tr>\n",
       "    <tr>\n",
       "      <th>655384</th>\n",
       "      <td>Vehicle Collision or Pedestrian Struck (with I...</td>\n",
       "      <td>Dunbar-Southlands</td>\n",
       "      <td>486096.0000</td>\n",
       "      <td>5456147.000</td>\n",
       "      <td>2019-12-12 19:24:00</td>\n",
       "      <td>POINT (486096.000 5456147.000)</td>\n",
       "      <td>0</td>\n",
       "      <td>DS</td>\n",
       "      <td>Dunbar-Southlands</td>\n",
       "    </tr>\n",
       "    <tr>\n",
       "      <th>655385</th>\n",
       "      <td>Vehicle Collision or Pedestrian Struck (with I...</td>\n",
       "      <td>Dunbar-Southlands</td>\n",
       "      <td>486117.0000</td>\n",
       "      <td>5456146.000</td>\n",
       "      <td>2017-04-17 14:53:00</td>\n",
       "      <td>POINT (486117.000 5456146.000)</td>\n",
       "      <td>0</td>\n",
       "      <td>DS</td>\n",
       "      <td>Dunbar-Southlands</td>\n",
       "    </tr>\n",
       "    <tr>\n",
       "      <th>655386</th>\n",
       "      <td>Vehicle Collision or Pedestrian Struck (with I...</td>\n",
       "      <td>Dunbar-Southlands</td>\n",
       "      <td>486106.0000</td>\n",
       "      <td>5454841.000</td>\n",
       "      <td>2017-05-20 21:19:00</td>\n",
       "      <td>POINT (486106.000 5454841.000)</td>\n",
       "      <td>0</td>\n",
       "      <td>DS</td>\n",
       "      <td>Dunbar-Southlands</td>\n",
       "    </tr>\n",
       "    <tr>\n",
       "      <th>655387</th>\n",
       "      <td>Vehicle Collision or Pedestrian Struck (with I...</td>\n",
       "      <td>Dunbar-Southlands</td>\n",
       "      <td>486106.0000</td>\n",
       "      <td>5454841.000</td>\n",
       "      <td>2017-10-25 08:16:00</td>\n",
       "      <td>POINT (486106.000 5454841.000)</td>\n",
       "      <td>0</td>\n",
       "      <td>DS</td>\n",
       "      <td>Dunbar-Southlands</td>\n",
       "    </tr>\n",
       "    <tr>\n",
       "      <th>655388</th>\n",
       "      <td>Vehicle Collision or Pedestrian Struck (with I...</td>\n",
       "      <td>Dunbar-Southlands</td>\n",
       "      <td>486100.0000</td>\n",
       "      <td>5453997.000</td>\n",
       "      <td>2005-11-15 18:08:00</td>\n",
       "      <td>POINT (486100.000 5453997.000)</td>\n",
       "      <td>0</td>\n",
       "      <td>DS</td>\n",
       "      <td>Dunbar-Southlands</td>\n",
       "    </tr>\n",
       "  </tbody>\n",
       "</table>\n",
       "<p>585752 rows × 9 columns</p>\n",
       "</div>"
      ],
      "text/plain": [
       "                                                     TYPE      NEIGHBOURHOOD  \\\n",
       "0                              Break and Enter Commercial           Oakridge   \n",
       "22520                          Break and Enter Commercial       South Cambie   \n",
       "22521                          Break and Enter Commercial       South Cambie   \n",
       "22522                          Break and Enter Commercial       South Cambie   \n",
       "22523                          Break and Enter Commercial       South Cambie   \n",
       "...                                                   ...                ...   \n",
       "655384  Vehicle Collision or Pedestrian Struck (with I...  Dunbar-Southlands   \n",
       "655385  Vehicle Collision or Pedestrian Struck (with I...  Dunbar-Southlands   \n",
       "655386  Vehicle Collision or Pedestrian Struck (with I...  Dunbar-Southlands   \n",
       "655387  Vehicle Collision or Pedestrian Struck (with I...  Dunbar-Southlands   \n",
       "655388  Vehicle Collision or Pedestrian Struck (with I...  Dunbar-Southlands   \n",
       "\n",
       "                  X            Y           DATE_TIME  \\\n",
       "0       491285.0000  5453433.000 2012-12-14 08:52:00   \n",
       "22520   491399.1148  5456000.366 2006-01-21 08:15:00   \n",
       "22521   491399.1148  5456000.366 2007-01-20 14:00:00   \n",
       "22522   491619.2177  5455914.671 2006-06-27 23:30:00   \n",
       "22523   491620.0123  5455934.710 2018-03-04 01:55:00   \n",
       "...             ...          ...                 ...   \n",
       "655384  486096.0000  5456147.000 2019-12-12 19:24:00   \n",
       "655385  486117.0000  5456146.000 2017-04-17 14:53:00   \n",
       "655386  486106.0000  5454841.000 2017-05-20 21:19:00   \n",
       "655387  486106.0000  5454841.000 2017-10-25 08:16:00   \n",
       "655388  486100.0000  5453997.000 2005-11-15 18:08:00   \n",
       "\n",
       "                              geometry  index_right mapid               name  \n",
       "0       POINT (491285.000 5453433.000)            4    SC       South Cambie  \n",
       "22520   POINT (491399.115 5456000.366)            4    SC       South Cambie  \n",
       "22521   POINT (491399.115 5456000.366)            4    SC       South Cambie  \n",
       "22522   POINT (491619.218 5455914.671)            4    SC       South Cambie  \n",
       "22523   POINT (491620.012 5455934.710)            4    SC       South Cambie  \n",
       "...                                ...          ...   ...                ...  \n",
       "655384  POINT (486096.000 5456147.000)            0    DS  Dunbar-Southlands  \n",
       "655385  POINT (486117.000 5456146.000)            0    DS  Dunbar-Southlands  \n",
       "655386  POINT (486106.000 5454841.000)            0    DS  Dunbar-Southlands  \n",
       "655387  POINT (486106.000 5454841.000)            0    DS  Dunbar-Southlands  \n",
       "655388  POINT (486100.000 5453997.000)            0    DS  Dunbar-Southlands  \n",
       "\n",
       "[585752 rows x 9 columns]"
      ]
     },
     "execution_count": 54,
     "metadata": {},
     "output_type": "execute_result"
    }
   ],
   "source": [
    "# Showing table with the neighbourhoods set based on the City of Vancouver GeoJSON file\n",
    "sjoined"
   ]
  },
  {
   "cell_type": "markdown",
   "metadata": {},
   "source": [
    "We will now check if there are differences between the VPD and the City of Vancouver definition of neighbourhood based on the geometry:"
   ]
  },
  {
   "cell_type": "code",
   "execution_count": 55,
   "metadata": {
    "ExecuteTime": {
     "end_time": "2020-11-01T04:48:07.989366Z",
     "start_time": "2020-11-01T04:48:07.608370Z"
    }
   },
   "outputs": [
    {
     "data": {
      "text/html": [
       "<div>\n",
       "<style scoped>\n",
       "    .dataframe tbody tr th:only-of-type {\n",
       "        vertical-align: middle;\n",
       "    }\n",
       "\n",
       "    .dataframe tbody tr th {\n",
       "        vertical-align: top;\n",
       "    }\n",
       "\n",
       "    .dataframe thead th {\n",
       "        text-align: right;\n",
       "    }\n",
       "</style>\n",
       "<table border=\"1\" class=\"dataframe\">\n",
       "  <thead>\n",
       "    <tr style=\"text-align: right;\">\n",
       "      <th></th>\n",
       "      <th>TYPE</th>\n",
       "      <th>NEIGHBOURHOOD</th>\n",
       "      <th>X</th>\n",
       "      <th>Y</th>\n",
       "      <th>DATE_TIME</th>\n",
       "      <th>geometry</th>\n",
       "      <th>index_right</th>\n",
       "      <th>mapid</th>\n",
       "      <th>name</th>\n",
       "    </tr>\n",
       "  </thead>\n",
       "  <tbody>\n",
       "    <tr>\n",
       "      <th>0</th>\n",
       "      <td>Break and Enter Commercial</td>\n",
       "      <td>Oakridge</td>\n",
       "      <td>491285.0000</td>\n",
       "      <td>5453433.000</td>\n",
       "      <td>2012-12-14 08:52:00</td>\n",
       "      <td>POINT (491285.000 5453433.000)</td>\n",
       "      <td>4</td>\n",
       "      <td>SC</td>\n",
       "      <td>South Cambie</td>\n",
       "    </tr>\n",
       "    <tr>\n",
       "      <th>192407</th>\n",
       "      <td>Mischief</td>\n",
       "      <td>Riley Park</td>\n",
       "      <td>491623.4718</td>\n",
       "      <td>5455906.555</td>\n",
       "      <td>2009-05-13 19:40:00</td>\n",
       "      <td>POINT (491623.472 5455906.555)</td>\n",
       "      <td>4</td>\n",
       "      <td>SC</td>\n",
       "      <td>South Cambie</td>\n",
       "    </tr>\n",
       "    <tr>\n",
       "      <th>192408</th>\n",
       "      <td>Mischief</td>\n",
       "      <td>Riley Park</td>\n",
       "      <td>491619.9390</td>\n",
       "      <td>5455799.247</td>\n",
       "      <td>2006-09-30 23:00:00</td>\n",
       "      <td>POINT (491619.939 5455799.247)</td>\n",
       "      <td>4</td>\n",
       "      <td>SC</td>\n",
       "      <td>South Cambie</td>\n",
       "    </tr>\n",
       "    <tr>\n",
       "      <th>192409</th>\n",
       "      <td>Mischief</td>\n",
       "      <td>Riley Park</td>\n",
       "      <td>491619.9390</td>\n",
       "      <td>5455799.247</td>\n",
       "      <td>2008-04-25 19:00:00</td>\n",
       "      <td>POINT (491619.939 5455799.247)</td>\n",
       "      <td>4</td>\n",
       "      <td>SC</td>\n",
       "      <td>South Cambie</td>\n",
       "    </tr>\n",
       "    <tr>\n",
       "      <th>192410</th>\n",
       "      <td>Mischief</td>\n",
       "      <td>Riley Park</td>\n",
       "      <td>491619.9390</td>\n",
       "      <td>5455799.247</td>\n",
       "      <td>2010-05-16 21:10:00</td>\n",
       "      <td>POINT (491619.939 5455799.247)</td>\n",
       "      <td>4</td>\n",
       "      <td>SC</td>\n",
       "      <td>South Cambie</td>\n",
       "    </tr>\n",
       "    <tr>\n",
       "      <th>...</th>\n",
       "      <td>...</td>\n",
       "      <td>...</td>\n",
       "      <td>...</td>\n",
       "      <td>...</td>\n",
       "      <td>...</td>\n",
       "      <td>...</td>\n",
       "      <td>...</td>\n",
       "      <td>...</td>\n",
       "      <td>...</td>\n",
       "    </tr>\n",
       "    <tr>\n",
       "      <th>653324</th>\n",
       "      <td>Vehicle Collision or Pedestrian Struck (with I...</td>\n",
       "      <td>Kerrisdale</td>\n",
       "      <td>487605.0000</td>\n",
       "      <td>5453562.000</td>\n",
       "      <td>2003-05-21 18:45:00</td>\n",
       "      <td>POINT (487605.000 5453562.000)</td>\n",
       "      <td>0</td>\n",
       "      <td>DS</td>\n",
       "      <td>Dunbar-Southlands</td>\n",
       "    </tr>\n",
       "    <tr>\n",
       "      <th>653325</th>\n",
       "      <td>Vehicle Collision or Pedestrian Struck (with I...</td>\n",
       "      <td>Kerrisdale</td>\n",
       "      <td>487605.0000</td>\n",
       "      <td>5453562.000</td>\n",
       "      <td>2013-05-28 08:49:00</td>\n",
       "      <td>POINT (487605.000 5453562.000)</td>\n",
       "      <td>0</td>\n",
       "      <td>DS</td>\n",
       "      <td>Dunbar-Southlands</td>\n",
       "    </tr>\n",
       "    <tr>\n",
       "      <th>653326</th>\n",
       "      <td>Vehicle Collision or Pedestrian Struck (with I...</td>\n",
       "      <td>Kerrisdale</td>\n",
       "      <td>487605.0000</td>\n",
       "      <td>5453562.000</td>\n",
       "      <td>2014-10-26 14:57:00</td>\n",
       "      <td>POINT (487605.000 5453562.000)</td>\n",
       "      <td>0</td>\n",
       "      <td>DS</td>\n",
       "      <td>Dunbar-Southlands</td>\n",
       "    </tr>\n",
       "    <tr>\n",
       "      <th>653327</th>\n",
       "      <td>Vehicle Collision or Pedestrian Struck (with I...</td>\n",
       "      <td>Arbutus Ridge</td>\n",
       "      <td>487606.0000</td>\n",
       "      <td>5453563.000</td>\n",
       "      <td>2009-04-15 10:08:00</td>\n",
       "      <td>POINT (487606.000 5453563.000)</td>\n",
       "      <td>0</td>\n",
       "      <td>DS</td>\n",
       "      <td>Dunbar-Southlands</td>\n",
       "    </tr>\n",
       "    <tr>\n",
       "      <th>653538</th>\n",
       "      <td>Vehicle Collision or Pedestrian Struck (with I...</td>\n",
       "      <td>Musqueam</td>\n",
       "      <td>486494.0000</td>\n",
       "      <td>5452760.000</td>\n",
       "      <td>2003-04-19 10:11:00</td>\n",
       "      <td>POINT (486494.000 5452760.000)</td>\n",
       "      <td>0</td>\n",
       "      <td>DS</td>\n",
       "      <td>Dunbar-Southlands</td>\n",
       "    </tr>\n",
       "  </tbody>\n",
       "</table>\n",
       "<p>170095 rows × 9 columns</p>\n",
       "</div>"
      ],
      "text/plain": [
       "                                                     TYPE  NEIGHBOURHOOD  \\\n",
       "0                              Break and Enter Commercial       Oakridge   \n",
       "192407                                           Mischief     Riley Park   \n",
       "192408                                           Mischief     Riley Park   \n",
       "192409                                           Mischief     Riley Park   \n",
       "192410                                           Mischief     Riley Park   \n",
       "...                                                   ...            ...   \n",
       "653324  Vehicle Collision or Pedestrian Struck (with I...     Kerrisdale   \n",
       "653325  Vehicle Collision or Pedestrian Struck (with I...     Kerrisdale   \n",
       "653326  Vehicle Collision or Pedestrian Struck (with I...     Kerrisdale   \n",
       "653327  Vehicle Collision or Pedestrian Struck (with I...  Arbutus Ridge   \n",
       "653538  Vehicle Collision or Pedestrian Struck (with I...       Musqueam   \n",
       "\n",
       "                  X            Y           DATE_TIME  \\\n",
       "0       491285.0000  5453433.000 2012-12-14 08:52:00   \n",
       "192407  491623.4718  5455906.555 2009-05-13 19:40:00   \n",
       "192408  491619.9390  5455799.247 2006-09-30 23:00:00   \n",
       "192409  491619.9390  5455799.247 2008-04-25 19:00:00   \n",
       "192410  491619.9390  5455799.247 2010-05-16 21:10:00   \n",
       "...             ...          ...                 ...   \n",
       "653324  487605.0000  5453562.000 2003-05-21 18:45:00   \n",
       "653325  487605.0000  5453562.000 2013-05-28 08:49:00   \n",
       "653326  487605.0000  5453562.000 2014-10-26 14:57:00   \n",
       "653327  487606.0000  5453563.000 2009-04-15 10:08:00   \n",
       "653538  486494.0000  5452760.000 2003-04-19 10:11:00   \n",
       "\n",
       "                              geometry  index_right mapid               name  \n",
       "0       POINT (491285.000 5453433.000)            4    SC       South Cambie  \n",
       "192407  POINT (491623.472 5455906.555)            4    SC       South Cambie  \n",
       "192408  POINT (491619.939 5455799.247)            4    SC       South Cambie  \n",
       "192409  POINT (491619.939 5455799.247)            4    SC       South Cambie  \n",
       "192410  POINT (491619.939 5455799.247)            4    SC       South Cambie  \n",
       "...                                ...          ...   ...                ...  \n",
       "653324  POINT (487605.000 5453562.000)            0    DS  Dunbar-Southlands  \n",
       "653325  POINT (487605.000 5453562.000)            0    DS  Dunbar-Southlands  \n",
       "653326  POINT (487605.000 5453562.000)            0    DS  Dunbar-Southlands  \n",
       "653327  POINT (487606.000 5453563.000)            0    DS  Dunbar-Southlands  \n",
       "653538  POINT (486494.000 5452760.000)            0    DS  Dunbar-Southlands  \n",
       "\n",
       "[170095 rows x 9 columns]"
      ]
     },
     "execution_count": 55,
     "metadata": {},
     "output_type": "execute_result"
    }
   ],
   "source": [
    "# Checking the entries where the neighbourhoods are different\n",
    "sjoined[sjoined[\"NEIGHBOURHOOD\"]!=sjoined[\"name\"]]"
   ]
  },
  {
   "cell_type": "markdown",
   "metadata": {},
   "source": [
    "There are entries that have a different name and we decided to use the City of Vancouver boundaries as our source. \n",
    "We will perform the following steps to get the final dataframe:\n",
    "* rename the `name` column to `NEIGHBOURHOOD\n",
    "* drop the colums: `NEIGHBOURHOOD`, `geometry`, `index_right`, `mapid`\n",
    "\n",
    "We will keep the `X` and `Y` columns for Tableau analysis as, as of now, the current version does not recognize Geometry when plotting maps."
   ]
  },
  {
   "cell_type": "code",
   "execution_count": 56,
   "metadata": {
    "ExecuteTime": {
     "end_time": "2020-11-01T04:48:08.027373Z",
     "start_time": "2020-11-01T04:48:07.992368Z"
    }
   },
   "outputs": [],
   "source": [
    "# Dropping columns\n",
    "df_neighbourhood = sjoined.drop([\"NEIGHBOURHOOD\", \"geometry\", \"index_right\", \"mapid\"], axis=1)"
   ]
  },
  {
   "cell_type": "code",
   "execution_count": 57,
   "metadata": {
    "ExecuteTime": {
     "end_time": "2020-11-01T04:48:08.100367Z",
     "start_time": "2020-11-01T04:48:08.030370Z"
    }
   },
   "outputs": [],
   "source": [
    "# Renaming columns\n",
    "df_neighbourhood = df_neighbourhood.rename(columns={\"name\": \"NEIGHBOURHOOD\", \"geometry\":\"GEOMETRY\"})"
   ]
  },
  {
   "cell_type": "code",
   "execution_count": 58,
   "metadata": {
    "ExecuteTime": {
     "end_time": "2020-11-01T04:48:08.129371Z",
     "start_time": "2020-11-01T04:48:08.107367Z"
    }
   },
   "outputs": [
    {
     "data": {
      "text/html": [
       "<div>\n",
       "<style scoped>\n",
       "    .dataframe tbody tr th:only-of-type {\n",
       "        vertical-align: middle;\n",
       "    }\n",
       "\n",
       "    .dataframe tbody tr th {\n",
       "        vertical-align: top;\n",
       "    }\n",
       "\n",
       "    .dataframe thead th {\n",
       "        text-align: right;\n",
       "    }\n",
       "</style>\n",
       "<table border=\"1\" class=\"dataframe\">\n",
       "  <thead>\n",
       "    <tr style=\"text-align: right;\">\n",
       "      <th></th>\n",
       "      <th>TYPE</th>\n",
       "      <th>X</th>\n",
       "      <th>Y</th>\n",
       "      <th>DATE_TIME</th>\n",
       "      <th>NEIGHBOURHOOD</th>\n",
       "    </tr>\n",
       "  </thead>\n",
       "  <tbody>\n",
       "    <tr>\n",
       "      <th>0</th>\n",
       "      <td>Break and Enter Commercial</td>\n",
       "      <td>491285.0000</td>\n",
       "      <td>5453433.000</td>\n",
       "      <td>2012-12-14 08:52:00</td>\n",
       "      <td>South Cambie</td>\n",
       "    </tr>\n",
       "    <tr>\n",
       "      <th>22520</th>\n",
       "      <td>Break and Enter Commercial</td>\n",
       "      <td>491399.1148</td>\n",
       "      <td>5456000.366</td>\n",
       "      <td>2006-01-21 08:15:00</td>\n",
       "      <td>South Cambie</td>\n",
       "    </tr>\n",
       "    <tr>\n",
       "      <th>22521</th>\n",
       "      <td>Break and Enter Commercial</td>\n",
       "      <td>491399.1148</td>\n",
       "      <td>5456000.366</td>\n",
       "      <td>2007-01-20 14:00:00</td>\n",
       "      <td>South Cambie</td>\n",
       "    </tr>\n",
       "    <tr>\n",
       "      <th>22522</th>\n",
       "      <td>Break and Enter Commercial</td>\n",
       "      <td>491619.2177</td>\n",
       "      <td>5455914.671</td>\n",
       "      <td>2006-06-27 23:30:00</td>\n",
       "      <td>South Cambie</td>\n",
       "    </tr>\n",
       "    <tr>\n",
       "      <th>22523</th>\n",
       "      <td>Break and Enter Commercial</td>\n",
       "      <td>491620.0123</td>\n",
       "      <td>5455934.710</td>\n",
       "      <td>2018-03-04 01:55:00</td>\n",
       "      <td>South Cambie</td>\n",
       "    </tr>\n",
       "    <tr>\n",
       "      <th>...</th>\n",
       "      <td>...</td>\n",
       "      <td>...</td>\n",
       "      <td>...</td>\n",
       "      <td>...</td>\n",
       "      <td>...</td>\n",
       "    </tr>\n",
       "    <tr>\n",
       "      <th>655384</th>\n",
       "      <td>Vehicle Collision or Pedestrian Struck (with I...</td>\n",
       "      <td>486096.0000</td>\n",
       "      <td>5456147.000</td>\n",
       "      <td>2019-12-12 19:24:00</td>\n",
       "      <td>Dunbar-Southlands</td>\n",
       "    </tr>\n",
       "    <tr>\n",
       "      <th>655385</th>\n",
       "      <td>Vehicle Collision or Pedestrian Struck (with I...</td>\n",
       "      <td>486117.0000</td>\n",
       "      <td>5456146.000</td>\n",
       "      <td>2017-04-17 14:53:00</td>\n",
       "      <td>Dunbar-Southlands</td>\n",
       "    </tr>\n",
       "    <tr>\n",
       "      <th>655386</th>\n",
       "      <td>Vehicle Collision or Pedestrian Struck (with I...</td>\n",
       "      <td>486106.0000</td>\n",
       "      <td>5454841.000</td>\n",
       "      <td>2017-05-20 21:19:00</td>\n",
       "      <td>Dunbar-Southlands</td>\n",
       "    </tr>\n",
       "    <tr>\n",
       "      <th>655387</th>\n",
       "      <td>Vehicle Collision or Pedestrian Struck (with I...</td>\n",
       "      <td>486106.0000</td>\n",
       "      <td>5454841.000</td>\n",
       "      <td>2017-10-25 08:16:00</td>\n",
       "      <td>Dunbar-Southlands</td>\n",
       "    </tr>\n",
       "    <tr>\n",
       "      <th>655388</th>\n",
       "      <td>Vehicle Collision or Pedestrian Struck (with I...</td>\n",
       "      <td>486100.0000</td>\n",
       "      <td>5453997.000</td>\n",
       "      <td>2005-11-15 18:08:00</td>\n",
       "      <td>Dunbar-Southlands</td>\n",
       "    </tr>\n",
       "  </tbody>\n",
       "</table>\n",
       "<p>585752 rows × 5 columns</p>\n",
       "</div>"
      ],
      "text/plain": [
       "                                                     TYPE            X  \\\n",
       "0                              Break and Enter Commercial  491285.0000   \n",
       "22520                          Break and Enter Commercial  491399.1148   \n",
       "22521                          Break and Enter Commercial  491399.1148   \n",
       "22522                          Break and Enter Commercial  491619.2177   \n",
       "22523                          Break and Enter Commercial  491620.0123   \n",
       "...                                                   ...          ...   \n",
       "655384  Vehicle Collision or Pedestrian Struck (with I...  486096.0000   \n",
       "655385  Vehicle Collision or Pedestrian Struck (with I...  486117.0000   \n",
       "655386  Vehicle Collision or Pedestrian Struck (with I...  486106.0000   \n",
       "655387  Vehicle Collision or Pedestrian Struck (with I...  486106.0000   \n",
       "655388  Vehicle Collision or Pedestrian Struck (with I...  486100.0000   \n",
       "\n",
       "                  Y           DATE_TIME      NEIGHBOURHOOD  \n",
       "0       5453433.000 2012-12-14 08:52:00       South Cambie  \n",
       "22520   5456000.366 2006-01-21 08:15:00       South Cambie  \n",
       "22521   5456000.366 2007-01-20 14:00:00       South Cambie  \n",
       "22522   5455914.671 2006-06-27 23:30:00       South Cambie  \n",
       "22523   5455934.710 2018-03-04 01:55:00       South Cambie  \n",
       "...             ...                 ...                ...  \n",
       "655384  5456147.000 2019-12-12 19:24:00  Dunbar-Southlands  \n",
       "655385  5456146.000 2017-04-17 14:53:00  Dunbar-Southlands  \n",
       "655386  5454841.000 2017-05-20 21:19:00  Dunbar-Southlands  \n",
       "655387  5454841.000 2017-10-25 08:16:00  Dunbar-Southlands  \n",
       "655388  5453997.000 2005-11-15 18:08:00  Dunbar-Southlands  \n",
       "\n",
       "[585752 rows x 5 columns]"
      ]
     },
     "execution_count": 58,
     "metadata": {},
     "output_type": "execute_result"
    }
   ],
   "source": [
    "df_neighbourhood"
   ]
  },
  {
   "cell_type": "markdown",
   "metadata": {},
   "source": [
    "__Result:__ there are no longer Null entries on the dataset."
   ]
  },
  {
   "cell_type": "code",
   "execution_count": 59,
   "metadata": {
    "ExecuteTime": {
     "end_time": "2020-11-01T04:48:08.217374Z",
     "start_time": "2020-11-01T04:48:08.135375Z"
    }
   },
   "outputs": [
    {
     "data": {
      "text/plain": [
       "TYPE             0\n",
       "X                0\n",
       "Y                0\n",
       "DATE_TIME        0\n",
       "NEIGHBOURHOOD    0\n",
       "dtype: int64"
      ]
     },
     "execution_count": 59,
     "metadata": {},
     "output_type": "execute_result"
    }
   ],
   "source": [
    "df_neighbourhood.isna().sum()"
   ]
  },
  {
   "cell_type": "markdown",
   "metadata": {},
   "source": [
    "We will now create a dataset for the neighbourhood analysis on Tableau:"
   ]
  },
  {
   "cell_type": "code",
   "execution_count": 60,
   "metadata": {
    "ExecuteTime": {
     "end_time": "2020-11-01T04:48:12.474263Z",
     "start_time": "2020-11-01T04:48:08.223370Z"
    }
   },
   "outputs": [],
   "source": [
    "# Creating the new dataset For EDA, we will use the CSV data on Tableau:\n",
    "df_neighbourhood.to_csv(r'Output\\crimedata_by_neighbourhood.csv', index=False,header=True)"
   ]
  },
  {
   "cell_type": "markdown",
   "metadata": {},
   "source": [
    "### Preparing dataset for Facebook Prophet"
   ]
  },
  {
   "cell_type": "markdown",
   "metadata": {},
   "source": [
    "Prophet is a procedure for forecasting time series data based on an additive model where non-linear trends are fit with yearly, weekly, and daily seasonality, plus holiday effects. It works best with time series that have strong seasonal effects and several seasons of historical data. Prophet is open source software released by Facebook’s Core Data Science team. \n",
    "\n",
    "For the forecasting, we only need the daily number of crimes and the `DATE_TIME`, so we will drop the columns `NEIGHBOURHOOD`, `geometry`."
   ]
  },
  {
   "cell_type": "code",
   "execution_count": 61,
   "metadata": {
    "ExecuteTime": {
     "end_time": "2020-11-01T04:48:12.762262Z",
     "start_time": "2020-11-01T04:48:12.478263Z"
    }
   },
   "outputs": [],
   "source": [
    "# Dropping the columns\n",
    "df_prophet_all = df.drop([\"NEIGHBOURHOOD\", \"X\", \"Y\",\"geometry\"],axis=1)\n",
    "\n",
    "# Counting the amount of crimes at the same day and time\n",
    "df_prophet_all = df_prophet_all.groupby([\"DATE_TIME\"]).count()"
   ]
  },
  {
   "cell_type": "code",
   "execution_count": 62,
   "metadata": {
    "ExecuteTime": {
     "end_time": "2020-11-01T04:48:12.784273Z",
     "start_time": "2020-11-01T04:48:12.766263Z"
    }
   },
   "outputs": [],
   "source": [
    "# Resetting the index\n",
    "df_prophet_all = df_prophet_all.reset_index()"
   ]
  },
  {
   "cell_type": "code",
   "execution_count": 63,
   "metadata": {
    "ExecuteTime": {
     "end_time": "2020-11-01T04:48:13.088322Z",
     "start_time": "2020-11-01T04:48:12.788261Z"
    }
   },
   "outputs": [],
   "source": [
    "# Grouping the values by day\n",
    "df_prophet_all = df_prophet_all.groupby(by=df_prophet_all['DATE_TIME'].dt.date).sum().reset_index()"
   ]
  },
  {
   "cell_type": "code",
   "execution_count": 64,
   "metadata": {
    "ExecuteTime": {
     "end_time": "2020-11-01T04:48:13.105323Z",
     "start_time": "2020-11-01T04:48:13.093339Z"
    }
   },
   "outputs": [],
   "source": [
    "# Renaming the TYPE column to COUNT_OF_CRIMES\n",
    "df_prophet_all = df_prophet_all.rename(columns={\"TYPE\": \"COUNT_OF_CRIMES\"})"
   ]
  },
  {
   "cell_type": "code",
   "execution_count": 65,
   "metadata": {
    "ExecuteTime": {
     "end_time": "2020-11-01T04:48:13.122327Z",
     "start_time": "2020-11-01T04:48:13.109330Z"
    }
   },
   "outputs": [],
   "source": [
    "# Setting the DATE_TIME as index of the daframe\n",
    "df_prophet_all.set_index('DATE_TIME', inplace=True)"
   ]
  },
  {
   "cell_type": "markdown",
   "metadata": {},
   "source": [
    "We will plot the daily crimes to identify possible outliers:"
   ]
  },
  {
   "cell_type": "code",
   "execution_count": 66,
   "metadata": {
    "ExecuteTime": {
     "end_time": "2020-11-01T04:48:13.436368Z",
     "start_time": "2020-11-01T04:48:13.127328Z"
    }
   },
   "outputs": [
    {
     "data": {
      "image/png": "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\n",
      "text/plain": [
       "<Figure size 1440x720 with 1 Axes>"
      ]
     },
     "metadata": {
      "needs_background": "light"
     },
     "output_type": "display_data"
    }
   ],
   "source": [
    "matplotlib.rcParams['figure.figsize'] = (20, 10)\n",
    "df_prophet_all.plot(style='k.', legend = None)\n",
    "plt.title(\"Number of Crimes per Day - 2003 to 2020\", fontsize=18)\n",
    "plt.ylabel(\"Crimes per Day\", fontsize=18)\n",
    "plt.xlabel(\"Years\", fontsize=18)\n",
    "plt.axhline(df_prophet_all[\"COUNT_OF_CRIMES\"].mean(), color='B', linestyle='dashed', linewidth=4)\n",
    "sns.despine()\n",
    "plt.show()"
   ]
  },
  {
   "cell_type": "markdown",
   "metadata": {},
   "source": [
    "> There is a clear outlier between 2010 and 2012, and to identify the exact date we will run a max on the dataframe:"
   ]
  },
  {
   "cell_type": "code",
   "execution_count": 67,
   "metadata": {
    "ExecuteTime": {
     "end_time": "2020-11-01T04:48:13.453368Z",
     "start_time": "2020-11-01T04:48:13.441369Z"
    },
    "scrolled": true
   },
   "outputs": [
    {
     "data": {
      "text/html": [
       "<div>\n",
       "<style scoped>\n",
       "    .dataframe tbody tr th:only-of-type {\n",
       "        vertical-align: middle;\n",
       "    }\n",
       "\n",
       "    .dataframe tbody tr th {\n",
       "        vertical-align: top;\n",
       "    }\n",
       "\n",
       "    .dataframe thead th {\n",
       "        text-align: right;\n",
       "    }\n",
       "</style>\n",
       "<table border=\"1\" class=\"dataframe\">\n",
       "  <thead>\n",
       "    <tr style=\"text-align: right;\">\n",
       "      <th></th>\n",
       "      <th>COUNT_OF_CRIMES</th>\n",
       "    </tr>\n",
       "    <tr>\n",
       "      <th>DATE_TIME</th>\n",
       "      <th></th>\n",
       "    </tr>\n",
       "  </thead>\n",
       "  <tbody>\n",
       "    <tr>\n",
       "      <th>2011-06-15</th>\n",
       "      <td>674</td>\n",
       "    </tr>\n",
       "  </tbody>\n",
       "</table>\n",
       "</div>"
      ],
      "text/plain": [
       "            COUNT_OF_CRIMES\n",
       "DATE_TIME                  \n",
       "2011-06-15              674"
      ]
     },
     "execution_count": 67,
     "metadata": {},
     "output_type": "execute_result"
    }
   ],
   "source": [
    "df_prophet_all[df_prophet_all['COUNT_OF_CRIMES']==df_prophet_all['COUNT_OF_CRIMES'].max()]"
   ]
  },
  {
   "cell_type": "markdown",
   "metadata": {},
   "source": [
    "There is a clear outlier at June 15, 2011 due to the [2011 Vancouver Stanley Cup riot](https://en.wikipedia.org/wiki/2011_Vancouver_Stanley_Cup_riot) where the local hockey team, Vancouver Canucks lost the game seven of the Stanley Cup Finals.\n",
    "\n",
    "For the model, we need to drop this outlier. "
   ]
  },
  {
   "cell_type": "code",
   "execution_count": 68,
   "metadata": {
    "ExecuteTime": {
     "end_time": "2020-11-01T04:48:13.473368Z",
     "start_time": "2020-11-01T04:48:13.456368Z"
    }
   },
   "outputs": [],
   "source": [
    "# Replacing the outlier with NaN to avoid impacting the forecasting\n",
    "df_prophet_all.replace(to_replace = 674, value = np.NaN, inplace=True)"
   ]
  },
  {
   "cell_type": "code",
   "execution_count": 69,
   "metadata": {
    "ExecuteTime": {
     "end_time": "2020-11-01T04:48:13.506371Z",
     "start_time": "2020-11-01T04:48:13.477368Z"
    }
   },
   "outputs": [
    {
     "data": {
      "text/html": [
       "<div>\n",
       "<style scoped>\n",
       "    .dataframe tbody tr th:only-of-type {\n",
       "        vertical-align: middle;\n",
       "    }\n",
       "\n",
       "    .dataframe tbody tr th {\n",
       "        vertical-align: top;\n",
       "    }\n",
       "\n",
       "    .dataframe thead th {\n",
       "        text-align: right;\n",
       "    }\n",
       "</style>\n",
       "<table border=\"1\" class=\"dataframe\">\n",
       "  <thead>\n",
       "    <tr style=\"text-align: right;\">\n",
       "      <th></th>\n",
       "      <th>COUNT_OF_CRIMES</th>\n",
       "    </tr>\n",
       "    <tr>\n",
       "      <th>DATE_TIME</th>\n",
       "      <th></th>\n",
       "    </tr>\n",
       "  </thead>\n",
       "  <tbody>\n",
       "    <tr>\n",
       "      <th>2011-06-15</th>\n",
       "      <td>NaN</td>\n",
       "    </tr>\n",
       "  </tbody>\n",
       "</table>\n",
       "</div>"
      ],
      "text/plain": [
       "            COUNT_OF_CRIMES\n",
       "DATE_TIME                  \n",
       "2011-06-15              NaN"
      ]
     },
     "execution_count": 69,
     "metadata": {},
     "output_type": "execute_result"
    }
   ],
   "source": [
    "# Checking if the NaN value was correctly pasted\n",
    "df_prophet_all[df_prophet_all[\"COUNT_OF_CRIMES\"].isna()]"
   ]
  },
  {
   "cell_type": "markdown",
   "metadata": {},
   "source": [
    "## Forecasting Daily Cases"
   ]
  },
  {
   "cell_type": "markdown",
   "metadata": {
    "ExecuteTime": {
     "end_time": "2020-10-30T04:34:07.799110Z",
     "start_time": "2020-10-30T04:34:07.794397Z"
    }
   },
   "source": [
    "### Prophet (Facebook)"
   ]
  },
  {
   "cell_type": "markdown",
   "metadata": {},
   "source": [
    "#### Fitting Data"
   ]
  },
  {
   "cell_type": "markdown",
   "metadata": {},
   "source": [
    "Prophet uses simulated historical forecasts (SHFs) by producing K forecasts at various cutoff points in the history, chosen such that the horizons lie within the history and the total error can be evaluated. The main advantage of using fewer simulated dates (rolling origin evaluation produces one forecast per date) is that it economizes on computation while providing less correlated accuracy measurements."
   ]
  },
  {
   "cell_type": "code",
   "execution_count": 70,
   "metadata": {
    "ExecuteTime": {
     "end_time": "2020-11-01T04:48:13.534366Z",
     "start_time": "2020-11-01T04:48:13.511369Z"
    }
   },
   "outputs": [],
   "source": [
    "# Reseting the indexes\n",
    "df_prophet_daily = df_prophet_all.reset_index().rename(columns={\"DATE_TIME\":\"ds\",\"COUNT_OF_CRIMES\":\"y\"})"
   ]
  },
  {
   "cell_type": "markdown",
   "metadata": {},
   "source": [
    "The dataframe for Prophet needs to have the column names as \"ds\" for the dates and \"y\" for the value to be forecasted:"
   ]
  },
  {
   "cell_type": "code",
   "execution_count": 79,
   "metadata": {
    "ExecuteTime": {
     "end_time": "2020-11-01T04:51:30.667667Z",
     "start_time": "2020-11-01T04:51:30.649659Z"
    }
   },
   "outputs": [
    {
     "data": {
      "text/html": [
       "<div>\n",
       "<style scoped>\n",
       "    .dataframe tbody tr th:only-of-type {\n",
       "        vertical-align: middle;\n",
       "    }\n",
       "\n",
       "    .dataframe tbody tr th {\n",
       "        vertical-align: top;\n",
       "    }\n",
       "\n",
       "    .dataframe thead th {\n",
       "        text-align: right;\n",
       "    }\n",
       "</style>\n",
       "<table border=\"1\" class=\"dataframe\">\n",
       "  <thead>\n",
       "    <tr style=\"text-align: right;\">\n",
       "      <th></th>\n",
       "      <th>ds</th>\n",
       "      <th>y</th>\n",
       "    </tr>\n",
       "  </thead>\n",
       "  <tbody>\n",
       "    <tr>\n",
       "      <th>0</th>\n",
       "      <td>2003-01-01</td>\n",
       "      <td>194.0</td>\n",
       "    </tr>\n",
       "    <tr>\n",
       "      <th>1</th>\n",
       "      <td>2003-01-02</td>\n",
       "      <td>149.0</td>\n",
       "    </tr>\n",
       "    <tr>\n",
       "      <th>2</th>\n",
       "      <td>2003-01-03</td>\n",
       "      <td>161.0</td>\n",
       "    </tr>\n",
       "    <tr>\n",
       "      <th>3</th>\n",
       "      <td>2003-01-04</td>\n",
       "      <td>147.0</td>\n",
       "    </tr>\n",
       "    <tr>\n",
       "      <th>4</th>\n",
       "      <td>2003-01-05</td>\n",
       "      <td>121.0</td>\n",
       "    </tr>\n",
       "  </tbody>\n",
       "</table>\n",
       "</div>"
      ],
      "text/plain": [
       "           ds      y\n",
       "0  2003-01-01  194.0\n",
       "1  2003-01-02  149.0\n",
       "2  2003-01-03  161.0\n",
       "3  2003-01-04  147.0\n",
       "4  2003-01-05  121.0"
      ]
     },
     "execution_count": 79,
     "metadata": {},
     "output_type": "execute_result"
    }
   ],
   "source": [
    "df_prophet_daily.head()"
   ]
  },
  {
   "cell_type": "code",
   "execution_count": 82,
   "metadata": {
    "ExecuteTime": {
     "end_time": "2020-11-01T05:28:08.279022Z",
     "start_time": "2020-11-01T05:27:56.589594Z"
    }
   },
   "outputs": [
    {
     "name": "stderr",
     "output_type": "stream",
     "text": [
      "INFO:fbprophet:Disabling daily seasonality. Run prophet with daily_seasonality=True to override this.\n"
     ]
    },
    {
     "data": {
      "text/plain": [
       "<fbprophet.forecaster.Prophet at 0x23ad47a3130>"
      ]
     },
     "execution_count": 82,
     "metadata": {},
     "output_type": "execute_result"
    }
   ],
   "source": [
    "# Instantiate the model with 95% confidence intervals\n",
    "daily = Prophet(interval_width = 0.95)\n",
    "\n",
    "# Including the Canadian holidays to addapt to sazonality\n",
    "daily.add_country_holidays(country_name='CA')\n",
    "\n",
    "# Fit the model\n",
    "daily.fit(df_prophet_daily)"
   ]
  },
  {
   "cell_type": "code",
   "execution_count": 73,
   "metadata": {
    "ExecuteTime": {
     "end_time": "2020-11-01T04:48:28.493571Z",
     "start_time": "2020-11-01T04:48:28.483576Z"
    }
   },
   "outputs": [
    {
     "data": {
      "text/plain": [
       "0                New Year's Day\n",
       "1                   Good Friday\n",
       "2                  Victoria Day\n",
       "3                    Canada Day\n",
       "4                    Labour Day\n",
       "5                  Thanksgiving\n",
       "6               Remembrance Day\n",
       "7                 Christmas Day\n",
       "8      Christmas Day (Observed)\n",
       "9         Boxing Day (Observed)\n",
       "10    New Year's Day (Observed)\n",
       "11        Canada Day (Observed)\n",
       "12                   Boxing Day\n",
       "dtype: object"
      ]
     },
     "execution_count": 73,
     "metadata": {},
     "output_type": "execute_result"
    }
   ],
   "source": [
    "# List of Canadian Holidays that were considered in the forecast\n",
    "daily.train_holiday_names"
   ]
  },
  {
   "cell_type": "code",
   "execution_count": 74,
   "metadata": {
    "ExecuteTime": {
     "end_time": "2020-11-01T04:48:28.539574Z",
     "start_time": "2020-11-01T04:48:28.497576Z"
    }
   },
   "outputs": [
    {
     "data": {
      "text/html": [
       "<div>\n",
       "<style scoped>\n",
       "    .dataframe tbody tr th:only-of-type {\n",
       "        vertical-align: middle;\n",
       "    }\n",
       "\n",
       "    .dataframe tbody tr th {\n",
       "        vertical-align: top;\n",
       "    }\n",
       "\n",
       "    .dataframe thead th {\n",
       "        text-align: right;\n",
       "    }\n",
       "</style>\n",
       "<table border=\"1\" class=\"dataframe\">\n",
       "  <thead>\n",
       "    <tr style=\"text-align: right;\">\n",
       "      <th></th>\n",
       "      <th>ds</th>\n",
       "    </tr>\n",
       "  </thead>\n",
       "  <tbody>\n",
       "    <tr>\n",
       "      <th>7300</th>\n",
       "      <td>2022-12-27</td>\n",
       "    </tr>\n",
       "    <tr>\n",
       "      <th>7301</th>\n",
       "      <td>2022-12-28</td>\n",
       "    </tr>\n",
       "    <tr>\n",
       "      <th>7302</th>\n",
       "      <td>2022-12-29</td>\n",
       "    </tr>\n",
       "    <tr>\n",
       "      <th>7303</th>\n",
       "      <td>2022-12-30</td>\n",
       "    </tr>\n",
       "    <tr>\n",
       "      <th>7304</th>\n",
       "      <td>2022-12-31</td>\n",
       "    </tr>\n",
       "  </tbody>\n",
       "</table>\n",
       "</div>"
      ],
      "text/plain": [
       "             ds\n",
       "7300 2022-12-27\n",
       "7301 2022-12-28\n",
       "7302 2022-12-29\n",
       "7303 2022-12-30\n",
       "7304 2022-12-31"
      ]
     },
     "execution_count": 74,
     "metadata": {},
     "output_type": "execute_result"
    }
   ],
   "source": [
    "# Creating the future dataframe range (807 days in the future - until 2022-12-31)\n",
    "future = daily.make_future_dataframe(periods=807,freq=\"D\")\n",
    "future.tail()"
   ]
  },
  {
   "cell_type": "markdown",
   "metadata": {},
   "source": [
    "We will now run the model and and show the table with the forecasted values:"
   ]
  },
  {
   "cell_type": "code",
   "execution_count": 75,
   "metadata": {
    "ExecuteTime": {
     "end_time": "2020-11-01T04:48:36.992362Z",
     "start_time": "2020-11-01T04:48:28.542572Z"
    }
   },
   "outputs": [],
   "source": [
    "# Running the model and showing the last days prediction\n",
    "forecast = daily.predict(future)"
   ]
  },
  {
   "cell_type": "markdown",
   "metadata": {},
   "source": [
    "> __Yhat__: the forecasted value\n",
    "\n",
    "> __yhat_lower__: lower band on the 95% confidence interval\n",
    "\n",
    "> __yhat_upper__: upper band on the 95% confidence interval"
   ]
  },
  {
   "cell_type": "code",
   "execution_count": 76,
   "metadata": {
    "ExecuteTime": {
     "end_time": "2020-11-01T04:48:37.028362Z",
     "start_time": "2020-11-01T04:48:36.994365Z"
    }
   },
   "outputs": [
    {
     "data": {
      "text/html": [
       "<div>\n",
       "<style scoped>\n",
       "    .dataframe tbody tr th:only-of-type {\n",
       "        vertical-align: middle;\n",
       "    }\n",
       "\n",
       "    .dataframe tbody tr th {\n",
       "        vertical-align: top;\n",
       "    }\n",
       "\n",
       "    .dataframe thead th {\n",
       "        text-align: right;\n",
       "    }\n",
       "</style>\n",
       "<table border=\"1\" class=\"dataframe\">\n",
       "  <thead>\n",
       "    <tr style=\"text-align: right;\">\n",
       "      <th></th>\n",
       "      <th>ds</th>\n",
       "      <th>yhat</th>\n",
       "      <th>yhat_lower</th>\n",
       "      <th>yhat_upper</th>\n",
       "    </tr>\n",
       "  </thead>\n",
       "  <tbody>\n",
       "    <tr>\n",
       "      <th>0</th>\n",
       "      <td>2003-01-01</td>\n",
       "      <td>167.422973</td>\n",
       "      <td>136.014854</td>\n",
       "      <td>198.564800</td>\n",
       "    </tr>\n",
       "    <tr>\n",
       "      <th>1</th>\n",
       "      <td>2003-01-02</td>\n",
       "      <td>134.352204</td>\n",
       "      <td>102.670934</td>\n",
       "      <td>165.799517</td>\n",
       "    </tr>\n",
       "    <tr>\n",
       "      <th>2</th>\n",
       "      <td>2003-01-03</td>\n",
       "      <td>145.161569</td>\n",
       "      <td>114.768759</td>\n",
       "      <td>177.181805</td>\n",
       "    </tr>\n",
       "    <tr>\n",
       "      <th>3</th>\n",
       "      <td>2003-01-04</td>\n",
       "      <td>145.741695</td>\n",
       "      <td>113.859995</td>\n",
       "      <td>179.198053</td>\n",
       "    </tr>\n",
       "    <tr>\n",
       "      <th>4</th>\n",
       "      <td>2003-01-05</td>\n",
       "      <td>137.793295</td>\n",
       "      <td>105.899009</td>\n",
       "      <td>168.734343</td>\n",
       "    </tr>\n",
       "    <tr>\n",
       "      <th>...</th>\n",
       "      <td>...</td>\n",
       "      <td>...</td>\n",
       "      <td>...</td>\n",
       "      <td>...</td>\n",
       "    </tr>\n",
       "    <tr>\n",
       "      <th>7300</th>\n",
       "      <td>2022-12-27</td>\n",
       "      <td>84.701829</td>\n",
       "      <td>53.622706</td>\n",
       "      <td>116.803885</td>\n",
       "    </tr>\n",
       "    <tr>\n",
       "      <th>7301</th>\n",
       "      <td>2022-12-28</td>\n",
       "      <td>90.259128</td>\n",
       "      <td>58.035412</td>\n",
       "      <td>120.737038</td>\n",
       "    </tr>\n",
       "    <tr>\n",
       "      <th>7302</th>\n",
       "      <td>2022-12-29</td>\n",
       "      <td>91.969399</td>\n",
       "      <td>60.898225</td>\n",
       "      <td>124.418361</td>\n",
       "    </tr>\n",
       "    <tr>\n",
       "      <th>7303</th>\n",
       "      <td>2022-12-30</td>\n",
       "      <td>102.837742</td>\n",
       "      <td>69.029846</td>\n",
       "      <td>136.112643</td>\n",
       "    </tr>\n",
       "    <tr>\n",
       "      <th>7304</th>\n",
       "      <td>2022-12-31</td>\n",
       "      <td>103.474344</td>\n",
       "      <td>70.473341</td>\n",
       "      <td>137.432880</td>\n",
       "    </tr>\n",
       "  </tbody>\n",
       "</table>\n",
       "<p>7305 rows × 4 columns</p>\n",
       "</div>"
      ],
      "text/plain": [
       "             ds        yhat  yhat_lower  yhat_upper\n",
       "0    2003-01-01  167.422973  136.014854  198.564800\n",
       "1    2003-01-02  134.352204  102.670934  165.799517\n",
       "2    2003-01-03  145.161569  114.768759  177.181805\n",
       "3    2003-01-04  145.741695  113.859995  179.198053\n",
       "4    2003-01-05  137.793295  105.899009  168.734343\n",
       "...         ...         ...         ...         ...\n",
       "7300 2022-12-27   84.701829   53.622706  116.803885\n",
       "7301 2022-12-28   90.259128   58.035412  120.737038\n",
       "7302 2022-12-29   91.969399   60.898225  124.418361\n",
       "7303 2022-12-30  102.837742   69.029846  136.112643\n",
       "7304 2022-12-31  103.474344   70.473341  137.432880\n",
       "\n",
       "[7305 rows x 4 columns]"
      ]
     },
     "execution_count": 76,
     "metadata": {},
     "output_type": "execute_result"
    }
   ],
   "source": [
    "forecast[['ds', 'yhat', 'yhat_lower', 'yhat_upper']]"
   ]
  },
  {
   "cell_type": "markdown",
   "metadata": {},
   "source": [
    "#### Plotting the Forecasted Data"
   ]
  },
  {
   "cell_type": "code",
   "execution_count": 77,
   "metadata": {
    "ExecuteTime": {
     "end_time": "2020-11-01T04:48:37.425364Z",
     "start_time": "2020-11-01T04:48:37.032365Z"
    }
   },
   "outputs": [
    {
     "data": {
      "image/png": "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
